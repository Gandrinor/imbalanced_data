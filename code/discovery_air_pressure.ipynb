{
 "cells": [
  {
   "cell_type": "code",
   "execution_count": 1,
   "id": "initial_id",
   "metadata": {
    "collapsed": true,
    "ExecuteTime": {
     "end_time": "2024-03-02T16:05:30.344951800Z",
     "start_time": "2024-03-02T16:05:29.124900100Z"
    }
   },
   "outputs": [
    {
     "name": "stderr",
     "output_type": "stream",
     "text": [
      "C:\\Users\\magnusxd\\AppData\\Local\\Temp\\ipykernel_10680\\1566384425.py:1: DeprecationWarning: \n",
      "Pyarrow will become a required dependency of pandas in the next major release of pandas (pandas 3.0),\n",
      "(to allow more performant data types, such as the Arrow string type, and better interoperability with other libraries)\n",
      "but was not found to be installed on your system.\n",
      "If this would cause problems for you,\n",
      "please provide us feedback at https://github.com/pandas-dev/pandas/issues/54466\n",
      "        \n",
      "  import pandas as pd\n"
     ]
    }
   ],
   "source": [
    "import pandas as pd\n",
    "import numpy as np\n",
    "import sklearn\n",
    "import matplotlib.pyplot as plt\n",
    "#import plotly as plt\n",
    "import pickle\n",
    "import logging\n",
    "\n",
    "\n",
    "\n",
    "# tqdm !!!!!"
   ]
  },
  {
   "cell_type": "code",
   "outputs": [],
   "source": [
    "\n",
    "\n",
    "\n",
    "# https://www.kaggle.com/code/varunraskar/air-pressure-system-99-46-acc\n",
    "# https://www.kaggle.com/code/aayushsin7a/scania-aps-failure-prediction\n",
    "\n",
    "\n",
    "# load data set from csv\n",
    "\n",
    "train_df = pd.read_csv('./data/raw/Air_pressure_system_failures_in_Scania_trucks/aps_failure_training_set.csv',na_values=[\"na\"])\n",
    "test_df = pd.read_csv('./data/raw/Air_pressure_system_failures_in_Scania_trucks/aps_failure_test_set.csv',na_values=[\"na\"])\n",
    "\n"
   ],
   "metadata": {
    "collapsed": false,
    "ExecuteTime": {
     "end_time": "2024-03-02T16:05:32.242285300Z",
     "start_time": "2024-03-02T16:05:31.643217900Z"
    }
   },
   "id": "94192c9b7f7dab44",
   "execution_count": 2
  },
  {
   "cell_type": "code",
   "outputs": [
    {
     "data": {
      "text/plain": "(16000, 171)"
     },
     "execution_count": 23,
     "metadata": {},
     "output_type": "execute_result"
    }
   ],
   "source": [
    "train_df.head()\n",
    "test_df.head()\n",
    "train_df.shape\n",
    "test_df.shape\n"
   ],
   "metadata": {
    "collapsed": false,
    "ExecuteTime": {
     "end_time": "2024-03-01T18:58:40.783920Z",
     "start_time": "2024-03-01T18:58:40.777337800Z"
    }
   },
   "id": "b87a36e32644d6ac",
   "execution_count": 23
  },
  {
   "cell_type": "code",
   "outputs": [
    {
     "name": "stdout",
     "output_type": "stream",
     "text": [
      "neg value count: 15625\n",
      "pos value count: 375\n",
      "neg percentage: 0.98\n",
      "neg percentage: 0.02\n",
      "neg - pos ratio: 1 : 41.666666666666664\n",
      "neg - pos ratio: 3 : 125.0\n"
     ]
    }
   ],
   "source": [
    "# test meta data\n",
    "\n",
    "unique_values_test = test_df[\"class\"].value_counts()\n",
    "pos_class = unique_values_test.index[0]\n",
    "neg_class = unique_values_test.index[1]\n",
    "pos_count = unique_values_test.iloc[0]\n",
    "neg_count = unique_values_test.iloc[1]\n",
    "print(\"{} value count: {}\".format(pos_class, pos_count))\n",
    "print(\"{} value count: {}\".format(neg_class, neg_count))\n",
    "print(\"{} percentage: {}\".format(pos_class, '%.2f'%(pos_count/(pos_count + neg_count))))\n",
    "print(\"{} percentage: {}\".format(pos_class, '%.2f'%(neg_count/(pos_count + neg_count))))\n",
    "print(\"{} - {} ratio: {}\".format(pos_class, neg_class, \"1 : {}\".format(pos_count/neg_count)))\n",
    "print(\"{} - {} ratio: {}\".format(pos_class, neg_class, \"3 : {}\".format((pos_count/neg_count)*3)))\n"
   ],
   "metadata": {
    "collapsed": false,
    "ExecuteTime": {
     "end_time": "2024-03-01T15:51:12.088826Z",
     "start_time": "2024-03-01T15:51:12.084627100Z"
    }
   },
   "id": "8faa5f7d78777172",
   "execution_count": 207
  },
  {
   "cell_type": "code",
   "outputs": [
    {
     "name": "stdout",
     "output_type": "stream",
     "text": [
      "neg value count: 59000\n",
      "pos value count: 1000\n",
      "neg percentage: 0.98\n",
      "neg percentage: 0.02\n",
      "neg - pos ratio: 1 : 59.0\n",
      "neg - pos ratio: 3 : 177.0\n"
     ]
    }
   ],
   "source": [
    "# train meta data\n",
    "\n",
    "unique_values_train = train_df[\"class\"].value_counts()\n",
    "pos_class = unique_values_train.index[0]\n",
    "neg_class = unique_values_train.index[1]\n",
    "pos_count = unique_values_train.iloc[0]\n",
    "neg_count = unique_values_train.iloc[1]\n",
    "print(\"{} value count: {}\".format(pos_class, pos_count))\n",
    "print(\"{} value count: {}\".format(neg_class, neg_count))\n",
    "print(\"{} percentage: {}\".format(pos_class, '%.2f'%(pos_count/(pos_count + neg_count))))\n",
    "print(\"{} percentage: {}\".format(pos_class, '%.2f'%(neg_count/(pos_count + neg_count))))\n",
    "print(\"{} - {} ratio: {}\".format(pos_class, neg_class, \"1 : {}\".format(pos_count/neg_count)))\n",
    "print(\"{} - {} ratio: {}\".format(pos_class, neg_class, \"3 : {}\".format((pos_count/neg_count)*3)))"
   ],
   "metadata": {
    "collapsed": false,
    "ExecuteTime": {
     "end_time": "2024-02-28T14:16:17.539591Z",
     "start_time": "2024-02-28T14:16:17.534529400Z"
    }
   },
   "id": "13ecbf7984a33bab",
   "execution_count": 46
  },
  {
   "cell_type": "code",
   "outputs": [],
   "source": [
    "#  merge\n",
    "all_df =  pd.concat([train_df, test_df], axis=0)\n",
    "\n"
   ],
   "metadata": {
    "collapsed": false,
    "ExecuteTime": {
     "end_time": "2024-03-02T16:05:36.490374100Z",
     "start_time": "2024-03-02T16:05:36.469611900Z"
    }
   },
   "id": "c240e2be802ef58b",
   "execution_count": 3
  },
  {
   "cell_type": "code",
   "outputs": [
    {
     "name": "stdout",
     "output_type": "stream",
     "text": [
      "neg value count: 74625\n",
      "pos value count: 1375\n",
      "neg percentage: 0.98\n",
      "neg percentage: 0.02\n",
      "neg - pos ratio: 1 : 54.27272727272727\n",
      "neg - pos ratio: 4 : 217.0909090909091\n"
     ]
    }
   ],
   "source": [
    "# merged data meta data\n",
    "\n",
    "unique_values_all = all_df[\"class\"].value_counts()\n",
    "pos_class = unique_values_all.index[0]\n",
    "neg_class = unique_values_all.index[1]\n",
    "pos_count = unique_values_all.iloc[0]\n",
    "neg_count = unique_values_all.iloc[1]\n",
    "print(\"{} value count: {}\".format(pos_class, pos_count))\n",
    "print(\"{} value count: {}\".format(neg_class, neg_count))\n",
    "print(\"{} percentage: {}\".format(pos_class, '%.2f'%(pos_count/(pos_count + neg_count))))\n",
    "print(\"{} percentage: {}\".format(pos_class, '%.2f'%(neg_count/(pos_count + neg_count))))\n",
    "print(\"{} - {} ratio: {}\".format(pos_class, neg_class, \"1 : {}\".format(pos_count/neg_count)))\n",
    "print(\"{} - {} ratio: {}\".format(pos_class, neg_class, \"4 : {}\".format((pos_count/neg_count)*4)))"
   ],
   "metadata": {
    "collapsed": false,
    "ExecuteTime": {
     "end_time": "2024-03-01T15:54:09.556055100Z",
     "start_time": "2024-03-01T15:54:09.547545100Z"
    }
   },
   "id": "30d63ac7698ac27d",
   "execution_count": 14
  },
  {
   "cell_type": "code",
   "outputs": [
    {
     "data": {
      "text/plain": "          count          mean           std  min    25%      50%       75%  \\\naa_000  76000.0  6.115976e+04  2.647366e+05  0.0  860.0  30813.0   48840.0   \nab_000  17308.0  7.255604e-01  3.311913e+00  0.0    0.0      0.0       0.0   \nac_000  71739.0  3.564398e+08  7.952530e+08  0.0   16.0    154.0     970.0   \nad_000  57158.0  1.506300e+05  3.590593e+07  0.0   24.0    128.0     430.0   \nae_000  72810.0  6.736959e+00  1.534465e+02  0.0    0.0      0.0       0.0   \n...         ...           ...           ...  ...    ...      ...       ...   \nee_007  75137.0  3.475611e+05  1.707593e+06  0.0  112.0  41260.0  168046.0   \nee_008  75137.0  1.398968e+05  4.692327e+05  0.0    0.0   3862.0  139500.0   \nee_009  75137.0  8.424984e+03  4.875440e+04  0.0    0.0      0.0    2000.0   \nef_000  72514.0  8.519734e-02  4.179600e+00  0.0    0.0      0.0       0.0   \neg_000  72515.0  2.190443e-01  1.023705e+01  0.0    0.0      0.0       0.0   \n\n                 max  \naa_000  4.294967e+07  \nab_000  2.040000e+02  \nac_000  2.130707e+09  \nad_000  8.584298e+09  \nae_000  2.105000e+04  \n...              ...  \nee_007  1.195801e+08  \nee_008  1.926740e+07  \nee_009  4.570398e+06  \nef_000  4.820000e+02  \neg_000  1.720000e+03  \n\n[170 rows x 8 columns]",
      "text/html": "<div>\n<style scoped>\n    .dataframe tbody tr th:only-of-type {\n        vertical-align: middle;\n    }\n\n    .dataframe tbody tr th {\n        vertical-align: top;\n    }\n\n    .dataframe thead th {\n        text-align: right;\n    }\n</style>\n<table border=\"1\" class=\"dataframe\">\n  <thead>\n    <tr style=\"text-align: right;\">\n      <th></th>\n      <th>count</th>\n      <th>mean</th>\n      <th>std</th>\n      <th>min</th>\n      <th>25%</th>\n      <th>50%</th>\n      <th>75%</th>\n      <th>max</th>\n    </tr>\n  </thead>\n  <tbody>\n    <tr>\n      <th>aa_000</th>\n      <td>76000.0</td>\n      <td>6.115976e+04</td>\n      <td>2.647366e+05</td>\n      <td>0.0</td>\n      <td>860.0</td>\n      <td>30813.0</td>\n      <td>48840.0</td>\n      <td>4.294967e+07</td>\n    </tr>\n    <tr>\n      <th>ab_000</th>\n      <td>17308.0</td>\n      <td>7.255604e-01</td>\n      <td>3.311913e+00</td>\n      <td>0.0</td>\n      <td>0.0</td>\n      <td>0.0</td>\n      <td>0.0</td>\n      <td>2.040000e+02</td>\n    </tr>\n    <tr>\n      <th>ac_000</th>\n      <td>71739.0</td>\n      <td>3.564398e+08</td>\n      <td>7.952530e+08</td>\n      <td>0.0</td>\n      <td>16.0</td>\n      <td>154.0</td>\n      <td>970.0</td>\n      <td>2.130707e+09</td>\n    </tr>\n    <tr>\n      <th>ad_000</th>\n      <td>57158.0</td>\n      <td>1.506300e+05</td>\n      <td>3.590593e+07</td>\n      <td>0.0</td>\n      <td>24.0</td>\n      <td>128.0</td>\n      <td>430.0</td>\n      <td>8.584298e+09</td>\n    </tr>\n    <tr>\n      <th>ae_000</th>\n      <td>72810.0</td>\n      <td>6.736959e+00</td>\n      <td>1.534465e+02</td>\n      <td>0.0</td>\n      <td>0.0</td>\n      <td>0.0</td>\n      <td>0.0</td>\n      <td>2.105000e+04</td>\n    </tr>\n    <tr>\n      <th>...</th>\n      <td>...</td>\n      <td>...</td>\n      <td>...</td>\n      <td>...</td>\n      <td>...</td>\n      <td>...</td>\n      <td>...</td>\n      <td>...</td>\n    </tr>\n    <tr>\n      <th>ee_007</th>\n      <td>75137.0</td>\n      <td>3.475611e+05</td>\n      <td>1.707593e+06</td>\n      <td>0.0</td>\n      <td>112.0</td>\n      <td>41260.0</td>\n      <td>168046.0</td>\n      <td>1.195801e+08</td>\n    </tr>\n    <tr>\n      <th>ee_008</th>\n      <td>75137.0</td>\n      <td>1.398968e+05</td>\n      <td>4.692327e+05</td>\n      <td>0.0</td>\n      <td>0.0</td>\n      <td>3862.0</td>\n      <td>139500.0</td>\n      <td>1.926740e+07</td>\n    </tr>\n    <tr>\n      <th>ee_009</th>\n      <td>75137.0</td>\n      <td>8.424984e+03</td>\n      <td>4.875440e+04</td>\n      <td>0.0</td>\n      <td>0.0</td>\n      <td>0.0</td>\n      <td>2000.0</td>\n      <td>4.570398e+06</td>\n    </tr>\n    <tr>\n      <th>ef_000</th>\n      <td>72514.0</td>\n      <td>8.519734e-02</td>\n      <td>4.179600e+00</td>\n      <td>0.0</td>\n      <td>0.0</td>\n      <td>0.0</td>\n      <td>0.0</td>\n      <td>4.820000e+02</td>\n    </tr>\n    <tr>\n      <th>eg_000</th>\n      <td>72515.0</td>\n      <td>2.190443e-01</td>\n      <td>1.023705e+01</td>\n      <td>0.0</td>\n      <td>0.0</td>\n      <td>0.0</td>\n      <td>0.0</td>\n      <td>1.720000e+03</td>\n    </tr>\n  </tbody>\n</table>\n<p>170 rows × 8 columns</p>\n</div>"
     },
     "execution_count": 29,
     "metadata": {},
     "output_type": "execute_result"
    }
   ],
   "source": [
    "all_df.describe().T"
   ],
   "metadata": {
    "collapsed": false,
    "ExecuteTime": {
     "end_time": "2024-03-01T14:05:59.350306800Z",
     "start_time": "2024-03-01T14:05:58.943280500Z"
    }
   },
   "id": "9616cca8c4c0c4e5",
   "execution_count": 29
  },
  {
   "cell_type": "code",
   "outputs": [],
   "source": [
    "# clean data\n",
    "\n",
    "# how does it look (Nan Values)\n",
    "\n",
    "nan_values = all_df.isna().sum(axis=0).div(all_df.shape[0], axis=0).mul(100).sort_values(ascending=False)\n",
    "\n",
    "\n",
    "\n",
    "# DROP NOT TO MANY (\n",
    "# impu\n",
    "\n",
    "\n",
    "\n",
    "\n",
    "# X  We will discard features with more than 70% missing values.\n",
    "# ?  For features with missing values less than 5%, we can drop those rows.\n",
    "# X  For features with missing values between 5–15%, we will impute those missing values using mean/median.\n",
    "# ? Now for the rest of the features with missing value% between 15–70% missing values, use model based imputation technique."
   ],
   "metadata": {
    "collapsed": false,
    "ExecuteTime": {
     "end_time": "2024-03-02T16:05:40.392863300Z",
     "start_time": "2024-03-02T16:05:40.370458900Z"
    }
   },
   "id": "f3e67cb89255e8e0",
   "execution_count": 4
  },
  {
   "cell_type": "code",
   "outputs": [
    {
     "data": {
      "text/plain": "<bound method NDFrame.head of br_000    82.096053\nbq_000    81.188158\nbp_000    79.553947\nbo_000    77.248684\ncr_000    77.226316\n            ...    \ncj_000     0.557895\nci_000     0.557895\nbt_000     0.256579\naa_000     0.000000\nclass      0.000000\nLength: 171, dtype: float64>"
     },
     "execution_count": 5,
     "metadata": {},
     "output_type": "execute_result"
    }
   ],
   "source": [
    "nan_values.head\n",
    "\n"
   ],
   "metadata": {
    "collapsed": false,
    "ExecuteTime": {
     "end_time": "2024-03-02T16:05:46.434455400Z",
     "start_time": "2024-03-02T16:05:46.417189700Z"
    }
   },
   "id": "e969d4c2388bda1e",
   "execution_count": 5
  },
  {
   "cell_type": "code",
   "outputs": [
    {
     "data": {
      "text/plain": "<Figure size 640x480 with 1 Axes>",
      "image/png": "[encoded data removed]"
     },
     "metadata": {},
     "output_type": "display_data"
    }
   ],
   "source": [
    "fig, ax = plt.subplots()\n",
    "\n",
    "ax.bar(x=nan_values.index, height=nan_values.values, color=\"blue\")\n",
    "plt.xticks([])\n",
    "ax.set_ylabel('percentage of missing values')\n",
    "ax.set_xlabel('features')\n",
    "\n",
    "# plt.show()\n",
    "# plt.savefig(\"pictures/scania_air_pressure_all_missing_values_percentage.svg\")"
   ],
   "metadata": {
    "collapsed": false,
    "ExecuteTime": {
     "end_time": "2024-03-01T14:51:47.962272900Z",
     "start_time": "2024-03-01T14:51:47.809028300Z"
    }
   },
   "id": "e48326852c68e0f0",
   "execution_count": 120
  },
  {
   "cell_type": "code",
   "outputs": [
    {
     "data": {
      "text/plain": "<Figure size 1800x800 with 1 Axes>",
      "image/png": "[encoded data removed]"
     },
     "metadata": {},
     "output_type": "display_data"
    }
   ],
   "source": [
    "fig, ax = plt.subplots()\n",
    "\n",
    "features = nan_values.index[0:25].to_list()\n",
    "values = nan_values.values[0:25].tolist()\n",
    "values = list(map(lambda x:float('%.0f'%(x)), values))\n",
    "\n",
    "\n",
    "ax.bar(x=features, height=values, color=\"blue\")\n",
    "\n",
    "fig.set_size_inches((18,8))\n",
    "\n",
    "ax.set_ylabel('percentage of missing values')\n",
    "ax.set_xlabel('features')\n",
    "\n",
    "x = 0  # the label locations\n",
    "width = 0.8 # the width of the bars\n",
    "multiplier = 0\n",
    "\n",
    "for value in values:\n",
    "    offset = width * multiplier * 1.25\n",
    "    rects = ax.bar(x + offset , value, width, color=\"blue\")\n",
    "    ax.bar_label(rects, padding=3, fmt=r'{:.0f}%')\n",
    "    multiplier += 1\n",
    "\n",
    "# plt.show()\n",
    "plt.savefig(\"pictures/scania_air_pressure_25_missing_values_percentage.svg\")\n"
   ],
   "metadata": {
    "collapsed": false,
    "ExecuteTime": {
     "end_time": "2024-03-01T15:37:05.532701900Z",
     "start_time": "2024-03-01T15:37:05.314757300Z"
    }
   },
   "id": "15744804310bb876",
   "execution_count": 191
  },
  {
   "cell_type": "code",
   "outputs": [
    {
     "name": "stdout",
     "output_type": "stream",
     "text": [
      "maximum value count: 12996000\n",
      "missing value count: 1078695\n",
      "missing value percentage: 0.08\n"
     ]
    }
   ],
   "source": [
    "# missing values statistics\n",
    "\n",
    "max_values = all_df.shape[0] * all_df.shape[1]\n",
    "missing_values = all_df.isna().sum(axis=0).sum()\n",
    "missing_values_percentage = missing_values/max_values\n",
    "\n",
    "\n",
    "print(\"maximum value count: {}\".format(max_values))\n",
    "print(\"missing value count: {}\".format(missing_values))\n",
    "print(\"missing value percentage: {}\".format('%.2f'%(missing_values_percentage)))"
   ],
   "metadata": {
    "collapsed": false,
    "ExecuteTime": {
     "end_time": "2024-03-01T18:50:03.228705400Z",
     "start_time": "2024-03-01T18:50:03.188707400Z"
    }
   },
   "id": "82a5a4ed2ecdcf2a",
   "execution_count": 6
  },
  {
   "cell_type": "code",
   "outputs": [],
   "source": [
    "# drop columns with too many missing values > 50\n",
    "features_to_be_dropped = nan_values[nan_values>50].index\n",
    "all_df = all_df.drop(labels=features_to_be_dropped, axis=1)\n",
    "\n",
    "\n"
   ],
   "metadata": {
    "collapsed": false,
    "ExecuteTime": {
     "end_time": "2024-03-02T16:05:54.502722700Z",
     "start_time": "2024-03-02T16:05:54.460526200Z"
    }
   },
   "id": "c68a8741b6e7c9f5",
   "execution_count": 6
  },
  {
   "cell_type": "markdown",
   "source": [],
   "metadata": {
    "collapsed": false
   },
   "id": "f46d722f2312dbec"
  },
  {
   "cell_type": "code",
   "outputs": [
    {
     "name": "stdout",
     "output_type": "stream",
     "text": [
      "Index(['cd_000'], dtype='object')\n"
     ]
    }
   ],
   "source": [
    "# drop constant !!!!!!!!!!!!!!!!!!!!!!!\n",
    "plain_features = all_df.drop([\"class\"], axis=1)\n",
    "\n",
    "variance = plain_features.var(axis=0)\n",
    "print(variance[variance == 0].index)\n",
    "all_df = all_df.drop(variance[variance == 0].index, axis=1)\n",
    "\n",
    "\n",
    "\n"
   ],
   "metadata": {
    "collapsed": false,
    "ExecuteTime": {
     "end_time": "2024-03-02T16:05:59.389352Z",
     "start_time": "2024-03-02T16:05:59.241120700Z"
    }
   },
   "id": "e882d9b6ae16d59a",
   "execution_count": 7
  },
  {
   "cell_type": "code",
   "outputs": [
    {
     "data": {
      "text/plain": "(76000, 162)"
     },
     "execution_count": 11,
     "metadata": {},
     "output_type": "execute_result"
    }
   ],
   "source": [
    "all_df.shape"
   ],
   "metadata": {
    "collapsed": false,
    "ExecuteTime": {
     "end_time": "2024-03-01T17:01:34.125393600Z",
     "start_time": "2024-03-01T17:01:34.118372600Z"
    }
   },
   "id": "d18edc006cc02092",
   "execution_count": 11
  },
  {
   "cell_type": "code",
   "outputs": [
    {
     "data": {
      "text/plain": "Index(['bt_000', 'ci_000', 'cj_000', 'ck_000', 'ec_00'], dtype='object')"
     },
     "execution_count": 79,
     "metadata": {},
     "output_type": "execute_result"
    }
   ],
   "source": [
    "# discrete, continuous values\n",
    "# plain_features = all_df.drop([\"class\"], axis=1)\n",
    "# not_nan_value_mask = plain_features.notna()\n",
    "# filled_features = plain_features.fillna(1)\n",
    "# continuous_value_mask = filled_features[filled_features % 1 != 0]\n",
    "# merged_mask = not_nan_value_mask & continuous_value_mask\n",
    "# \n",
    "# sum_continuous_values = merged_mask.sum()\n",
    "# sum_continuous_values[sum_continuous_values > 0].index\n",
    "\n",
    "#'bt_000', 'ci_000', 'cj_000', 'ck_000', 'ec_00'\n"
   ],
   "metadata": {
    "collapsed": false,
    "ExecuteTime": {
     "end_time": "2024-03-01T16:49:14.951165200Z",
     "start_time": "2024-03-01T16:49:14.204800300Z"
    }
   },
   "id": "a5d018c75a3a0040",
   "execution_count": 79
  },
  {
   "cell_type": "code",
   "outputs": [],
   "source": [
    "# split data into train test ...\n",
    "\n",
    "\n",
    "features = all_df.drop([\"class\"], axis=1)\n",
    "# features = all_df.drop([\"class\"], axis=1).values\n",
    "labels = all_df[\"class\"].transform(lambda x: 0 if x==\"pos\" else 1)\n",
    "# labels = all_df[\"class\"].transform(lambda x: 0 if x==\"pos\" else 1).to_numpy()\n",
    "\n",
    "\n",
    "    \n"
   ],
   "metadata": {
    "collapsed": false,
    "ExecuteTime": {
     "end_time": "2024-03-02T16:06:28.557479500Z",
     "start_time": "2024-03-02T16:06:28.526585200Z"
    }
   },
   "id": "39a2aceeea9ac191",
   "execution_count": 8
  },
  {
   "cell_type": "code",
   "outputs": [
    {
     "name": "stdout",
     "output_type": "stream",
     "text": [
      "\n",
      "\n",
      "Fold 0:\n",
      "\n",
      " TRAIN_DATA\n",
      "pos value count: 59700\n",
      "neg value count: 1100\n",
      "pos percentage: 0.98\n",
      "neg percentage: 0.02\n",
      "pos - neg ratio: 1 : 54.27272727272727\n",
      "\n",
      " TEST_DATA\n",
      "pos value count: 14925\n",
      "neg value count: 275\n",
      "pos percentage: 0.98\n",
      "neg percentage: 0.02\n",
      "pos - neg ratio: 1 : 54.27272727272727\n",
      "\n",
      "\n",
      "Fold 1:\n",
      "\n",
      " TRAIN_DATA\n",
      "pos value count: 59700\n",
      "neg value count: 1100\n",
      "pos percentage: 0.98\n",
      "neg percentage: 0.02\n",
      "pos - neg ratio: 1 : 54.27272727272727\n",
      "\n",
      " TEST_DATA\n",
      "pos value count: 14925\n",
      "neg value count: 275\n",
      "pos percentage: 0.98\n",
      "neg percentage: 0.02\n",
      "pos - neg ratio: 1 : 54.27272727272727\n",
      "\n",
      "\n",
      "Fold 2:\n",
      "\n",
      " TRAIN_DATA\n",
      "pos value count: 59700\n",
      "neg value count: 1100\n",
      "pos percentage: 0.98\n",
      "neg percentage: 0.02\n",
      "pos - neg ratio: 1 : 54.27272727272727\n",
      "\n",
      " TEST_DATA\n",
      "pos value count: 14925\n",
      "neg value count: 275\n",
      "pos percentage: 0.98\n",
      "neg percentage: 0.02\n",
      "pos - neg ratio: 1 : 54.27272727272727\n",
      "\n",
      "\n",
      "Fold 3:\n",
      "\n",
      " TRAIN_DATA\n",
      "pos value count: 59700\n",
      "neg value count: 1100\n",
      "pos percentage: 0.98\n",
      "neg percentage: 0.02\n",
      "pos - neg ratio: 1 : 54.27272727272727\n",
      "\n",
      " TEST_DATA\n",
      "pos value count: 14925\n",
      "neg value count: 275\n",
      "pos percentage: 0.98\n",
      "neg percentage: 0.02\n",
      "pos - neg ratio: 1 : 54.27272727272727\n",
      "\n",
      "\n",
      "Fold 4:\n",
      "\n",
      " TRAIN_DATA\n",
      "pos value count: 59700\n",
      "neg value count: 1100\n",
      "pos percentage: 0.98\n",
      "neg percentage: 0.02\n",
      "pos - neg ratio: 1 : 54.27272727272727\n",
      "\n",
      " TEST_DATA\n",
      "pos value count: 14925\n",
      "neg value count: 275\n",
      "pos percentage: 0.98\n",
      "neg percentage: 0.02\n",
      "pos - neg ratio: 1 : 54.27272727272727\n",
      "\n",
      "\n",
      "Number of duplicates indices over all 5 different test sets: 0\n"
     ]
    }
   ],
   "source": [
    "\n",
    "\n",
    "from sklearn.model_selection import StratifiedKFold\n",
    "\n",
    "sgkf = StratifiedKFold(n_splits=5, shuffle=True, random_state=1337)\n",
    "\n",
    "split_iterator = sgkf.split(features, labels)\n",
    "\n",
    "duplicate_dict = {}\n",
    "\n",
    "for i, (train_index, test_index) in enumerate(split_iterator):\n",
    "    \n",
    "    train_features=features.iloc[train_index]\n",
    "    # train_features=features[train_index]\n",
    "    train_labels=labels.iloc[train_index]\n",
    "    # train_labels=labels[train_index]\n",
    "    test_features=features.iloc[test_index]\n",
    "    # test_features=features[test_index]\n",
    "    test_labels=labels.iloc[test_index]\n",
    "    # test_labels=labels[test_index]\n",
    "    \n",
    "    for j in enumerate(test_index):\n",
    "        if duplicate_dict.get(j) == None:\n",
    "            duplicate_dict[j] = 1 \n",
    "        else :\n",
    "            duplicate_dict[j] = duplicate_dict.get(j)+1\n",
    "    \n",
    "    print(f\"\\n\\nFold {i}:\")\n",
    "    \n",
    "    print(\"\\n TRAIN_DATA\")\n",
    "    \n",
    "    selected_labels = labels.iloc[train_index]\n",
    "    # selected_labels = labels[train_index]\n",
    "    pos_count = selected_labels[selected_labels == 1].count()\n",
    "    # pos_count = len(selected_labels[selected_labels == 1])\n",
    "    neg_count = selected_labels[selected_labels == 0].count()\n",
    "    # neg_count = len(selected_labels[selected_labels == 0])\n",
    "    \n",
    "    \n",
    "    print(\"pos value count: {}\".format(pos_count))\n",
    "    print(\"neg value count: {}\".format(neg_count))\n",
    "    print(\"pos percentage: {}\".format('%.2f'%(pos_count/(pos_count + neg_count))))\n",
    "    print(\"neg percentage: {}\".format('%.2f'%(neg_count/(pos_count + neg_count))))\n",
    "    print(\"pos - neg ratio: {}\".format(\"1 : {}\".format(pos_count/neg_count)))\n",
    "    \n",
    "    \n",
    "    print(\"\\n TEST_DATA\")\n",
    "    \n",
    "    selected_labels = labels.iloc[test_index]\n",
    "    # selected_labels = labels[test_index]\n",
    "    pos_count = selected_labels[selected_labels == 1].count()\n",
    "    # pos_count = len(selected_labels[selected_labels == 1])\n",
    "    neg_count = selected_labels[selected_labels == 0].count()\n",
    "    # neg_count = len(selected_labels[selected_labels == 0])\n",
    "    \n",
    "    \n",
    "    print(\"pos value count: {}\".format(pos_count))\n",
    "    print(\"neg value count: {}\".format(neg_count))\n",
    "    print(\"pos percentage: {}\".format('%.2f'%(pos_count/(pos_count + neg_count))))\n",
    "    print(\"neg percentage: {}\".format('%.2f'%(neg_count/(pos_count + neg_count))))\n",
    "    print(\"pos - neg ratio: {}\".format(\"1 : {}\".format(pos_count/neg_count)))\n",
    "    \n",
    "\n",
    "duplicate_counter = 0 \n",
    "for value in duplicate_dict.values():\n",
    "    if value > 1:\n",
    "        duplicate_counter += 1\n",
    "print(\"\\n\\nNumber of duplicates indices over all 5 different test sets: {}\".format(duplicate_counter))"
   ],
   "metadata": {
    "collapsed": false,
    "ExecuteTime": {
     "end_time": "2024-03-02T16:06:30.736242800Z",
     "start_time": "2024-03-02T16:06:30.462033800Z"
    }
   },
   "id": "562a16778b255ce4",
   "execution_count": 9
  },
  {
   "cell_type": "code",
   "outputs": [],
   "source": [
    "# normalize train and test with min max sacling\n",
    "\n",
    "# 1 min max scaling -> [0,1] no distortion\n",
    "# keep min max for test data processing !!!!\n",
    "\n",
    "from sklearn.preprocessing import MinMaxScaler\n",
    "\n",
    "scaler = MinMaxScaler()\n",
    "scaler = scaler.fit(train_features)\n",
    "train_features = scaler.transform(train_features)\n",
    "test_features = scaler.transform(test_features)\n",
    "\n",
    "\n",
    "\n",
    "# df = pd.DataFrame({'angles': [0, 3, 4],\n",
    "#                    'degrees': [360, 180, 360]},\n",
    "#                   index=['circle', 'triangle', 'rectangle'])\n",
    "# s_min = pd.Series([0,180], index=['angles','degrees'])\n",
    "# s_min_neg = s_min * (-1)\n",
    "# s_max = pd.Series([4,360], index=['angles','degrees'])\n",
    "# s_max_min = s_max.add(s_min_neg)\n",
    "# df = df.add(s_min_neg, axis=1)\n",
    "# df = df.divide(s_max_min, axis=1)\n",
    "# df\n"
   ],
   "metadata": {
    "collapsed": false,
    "ExecuteTime": {
     "end_time": "2024-03-02T16:39:04.020531800Z",
     "start_time": "2024-03-02T16:39:03.900783900Z"
    }
   },
   "id": "56af19e53d8c953",
   "execution_count": 49
  },
  {
   "cell_type": "code",
   "outputs": [],
   "source": [
    "# 2 knn imputation (each feature is equally important for final result (min max scaling) -> distance based metric)\n",
    "# keep train KNNimputer for filling missing values in test data\n",
    "\n",
    "\n",
    "from sklearn.impute import KNNImputer\n",
    "\n",
    "imputer = KNNImputer(n_neighbors=5, weights=\"distance\", metric=\"nan_euclidean\")\n"
   ],
   "metadata": {
    "collapsed": false,
    "ExecuteTime": {
     "end_time": "2024-03-02T16:40:04.009476500Z",
     "start_time": "2024-03-02T16:40:03.920956900Z"
    }
   },
   "id": "69466d193ba9f655",
   "execution_count": 50
  },
  {
   "cell_type": "code",
   "outputs": [],
   "source": [
    "imputer = imputer.fit(train_features)"
   ],
   "metadata": {
    "collapsed": false,
    "ExecuteTime": {
     "end_time": "2024-03-02T16:40:08.408386800Z",
     "start_time": "2024-03-02T16:40:08.373186Z"
    }
   },
   "id": "f6e7a2cb2317ab1c",
   "execution_count": 51
  },
  {
   "cell_type": "code",
   "outputs": [],
   "source": [
    "train_features_imputed = imputer.transform(train_features) # ~ 11 min (4/5)n ^2 = 16/25 n2"
   ],
   "metadata": {
    "collapsed": false,
    "ExecuteTime": {
     "end_time": "2024-03-02T16:50:40.194560100Z",
     "start_time": "2024-03-02T16:40:22.554894700Z"
    }
   },
   "id": "54e8a93583e4f53",
   "execution_count": 52
  },
  {
   "cell_type": "markdown",
   "source": [],
   "metadata": {
    "collapsed": false
   },
   "id": "ae0e2fe0454d9d99"
  },
  {
   "cell_type": "code",
   "outputs": [],
   "source": [
    "test_features_imputed = imputer.transform(test_features) # ~ 2.4 (4/5)n * 1/5n) = 4/25 n2"
   ],
   "metadata": {
    "collapsed": false,
    "ExecuteTime": {
     "end_time": "2024-03-02T17:03:40.751574100Z",
     "start_time": "2024-03-02T17:00:59.909887400Z"
    }
   },
   "id": "4a4447a295e8c806",
   "execution_count": 70
  },
  {
   "cell_type": "code",
   "outputs": [
    {
     "data": {
      "text/plain": "array([[7.35372321e-04, 1.63326085e-07, 5.82201949e-04, 0.00000000e+00,\n        0.00000000e+00, 0.00000000e+00, 0.00000000e+00, 0.00000000e+00,\n        0.00000000e+00, 2.24270734e-05, 1.25199247e-03, 1.46486164e-02,\n        6.97162794e-03, 1.16661344e-03, 4.81340345e-04, 1.53597242e-02,\n        0.00000000e+00, 4.08573652e-05, 0.00000000e+00, 0.00000000e+00,\n        0.00000000e+00, 1.40953673e-02, 1.36432315e-02, 2.25156235e-03,\n        3.81504478e-03, 0.00000000e+00, 0.00000000e+00, 0.00000000e+00,\n        0.00000000e+00, 7.55877856e-03, 1.20473586e-02, 0.00000000e+00,\n        0.00000000e+00, 0.00000000e+00, 0.00000000e+00, 0.00000000e+00,\n        0.00000000e+00, 4.88471497e-03, 2.47527480e-03, 6.35179307e-06,\n        0.00000000e+00, 9.48685938e-04, 2.45460634e-04, 1.25196393e-04,\n        4.32211857e-05, 3.82040599e-03, 2.70144765e-03, 3.85482761e-04,\n        0.00000000e+00, 0.00000000e+00, 0.00000000e+00, 2.37726597e-03,\n        2.47334483e-03, 2.84435459e-03, 3.34127436e-03, 4.36304850e-03,\n        6.23121480e-03, 7.48671152e-03, 1.43107683e-02, 1.85933697e-03,\n        2.24223414e-06, 9.23128050e-03, 0.00000000e+00, 2.93683840e-04,\n        1.43109523e-04, 4.66209598e-03, 1.53597242e-02, 7.07558813e-03,\n        1.95980204e-03, 2.49134300e-03, 1.31151293e-01, 1.00000000e+00,\n        7.74748371e-02, 7.35381618e-04, 9.23128050e-03, 9.23128050e-03,\n        3.70435273e-03, 1.05798086e-02, 2.85696812e-05, 6.24303454e-01,\n        6.58310735e-01, 3.63062994e-03, 1.14097151e-02, 9.56083680e-05,\n        4.14331420e-03, 0.00000000e+00, 1.19154102e-02, 0.00000000e+00,\n        4.89769364e-03, 0.00000000e+00, 6.80023436e-04, 0.00000000e+00,\n        0.00000000e+00, 0.00000000e+00, 4.06315573e-04, 3.30468158e-03,\n        7.92807319e-03, 3.24018708e-03, 1.18906337e-03, 4.79466103e-04,\n        1.75832030e-06, 5.52550505e-04, 1.20880006e-05, 9.23128050e-03,\n        5.44218570e-03, 1.31721079e-03, 3.69664682e-05, 1.72861743e-03,\n        6.47678148e-04, 1.89040460e-03, 1.18990305e-02, 2.33836466e-03,\n        1.89327245e-05, 0.00000000e+00, 5.86577267e-04, 7.33312764e-03,\n        1.70619446e-02, 3.34969607e-04, 2.14713915e-06, 1.01916507e-05,\n        0.00000000e+00, 0.00000000e+00, 1.17182680e-02, 5.44096041e-03,\n        5.09509886e-03, 0.00000000e+00, 0.00000000e+00, 0.00000000e+00,\n        0.00000000e+00, 0.00000000e+00, 0.00000000e+00, 0.00000000e+00,\n        0.00000000e+00, 4.86908188e-03, 1.33832322e-02, 1.22208191e-02,\n        0.00000000e+00, 0.00000000e+00, 9.84236049e-03, 1.46224540e-02,\n        8.25714272e-06, 1.15209769e-05, 0.00000000e+00, 0.00000000e+00,\n        0.00000000e+00, 0.00000000e+00, 4.02538074e-04, 1.14013661e-02,\n        1.24749750e-02, 1.84195142e-03, 3.39113372e-03, 1.55213533e-03,\n        1.46134409e-03, 1.45756597e-03, 2.04616553e-03, 2.28299986e-03,\n        7.51997983e-04, 2.47930932e-02, 3.43134230e-02, 0.00000000e+00,\n        0.00000000e+00],\n       [7.98935088e-04, 0.00000000e+00, 4.15275439e-04, 0.00000000e+00,\n        0.00000000e+00, 0.00000000e+00, 0.00000000e+00, 0.00000000e+00,\n        1.13882944e-05, 1.16675844e-03, 5.09182597e-03, 8.23589241e-03,\n        4.88448074e-03, 2.54652981e-04, 0.00000000e+00, 1.68335394e-02,\n        0.00000000e+00, 3.09094849e-05, 0.00000000e+00, 2.36461174e-04,\n        2.63699861e-04, 1.64110224e-02, 1.67656260e-02, 1.42309189e-03,\n        2.42875593e-03, 0.00000000e+00, 0.00000000e+00, 0.00000000e+00,\n        0.00000000e+00, 0.00000000e+00, 0.00000000e+00, 0.00000000e+00,\n        0.00000000e+00, 0.00000000e+00, 0.00000000e+00, 0.00000000e+00,\n        2.82151816e-04, 7.98729164e-03, 1.84488932e-03, 5.71997935e-04,\n        0.00000000e+00, 7.26154668e-04, 8.03486247e-05, 5.24699490e-05,\n        1.51424572e-05, 1.16179313e-05, 4.42146007e-03, 3.09649579e-07,\n        0.00000000e+00, 0.00000000e+00, 0.00000000e+00, 2.73590978e-03,\n        3.05880790e-03, 3.54444111e-03, 4.29358006e-03, 5.90089511e-03,\n        7.95704904e-03, 8.31639265e-03, 1.07693756e-02, 2.47297510e-03,\n        6.15927989e-05, 1.01480282e-02, 0.00000000e+00, 2.02315534e-04,\n        3.05958291e-04, 3.40842311e-03, 1.68335394e-02, 5.17968295e-03,\n        1.50947321e-03, 1.33922034e-03, 7.23277638e-02, 1.00000000e+00,\n        6.24734873e-02, 7.98930880e-04, 1.01480282e-02, 1.01480282e-02,\n        4.13027021e-03, 1.09680310e-02, 2.25238010e-02, 8.09911206e-01,\n        8.26245122e-01, 4.21477574e-03, 0.00000000e+00, 2.31635792e-06,\n        3.34897609e-03, 0.00000000e+00, 1.47419857e-02, 0.00000000e+00,\n        3.57782215e-03, 4.15919070e-02, 1.68440203e-03, 0.00000000e+00,\n        0.00000000e+00, 2.66498686e-04, 3.01758163e-03, 4.82961855e-03,\n        5.02549048e-03, 2.69257640e-03, 5.11408884e-04, 4.12453664e-04,\n        3.46169310e-06, 1.24713604e-04, 0.00000000e+00, 1.01480282e-02,\n        3.74271889e-03, 9.20680209e-04, 2.17772758e-05, 1.21265623e-03,\n        8.31627085e-04, 1.30386464e-03, 1.88948020e-02, 2.99684467e-03,\n        1.86802881e-04, 0.00000000e+00, 4.99806042e-04, 1.11806447e-03,\n        1.15064114e-02, 2.26590644e-03, 7.40154088e-06, 3.44940239e-04,\n        0.00000000e+00, 1.48218772e-03, 8.94926980e-03, 2.94288115e-03,\n        3.24233564e-03, 0.00000000e+00, 0.00000000e+00, 0.00000000e+00,\n        0.00000000e+00, 0.00000000e+00, 0.00000000e+00, 0.00000000e+00,\n        0.00000000e+00, 2.99667371e-03, 1.36898420e-02, 1.15744719e-02,\n        0.00000000e+00, 0.00000000e+00, 1.73628364e-02, 1.66054767e-02,\n        5.40495179e-03, 9.90282886e-03, 0.00000000e+00, 0.00000000e+00,\n        0.00000000e+00, 0.00000000e+00, 1.19774312e-03, 7.93404534e-03,\n        7.43765765e-03, 1.33545709e-03, 3.59373108e-03, 4.36934231e-03,\n        4.32041726e-03, 3.20305078e-03, 4.58676621e-03, 4.11338461e-03,\n        9.82805602e-04, 1.11400408e-02, 4.56852992e-04, 0.00000000e+00,\n        0.00000000e+00]])"
     },
     "execution_count": 69,
     "metadata": {},
     "output_type": "execute_result"
    }
   ],
   "source": [
    "# maybe add standard scaler for pulling near values over a wider area and make differenciating more ez (important for non tree methods) https://stackoverflow.com/questions/49408371/when-to-use-min-max-scalar-and-standard-scalar\n",
    "# maybe dimensionallity reduction"
   ],
   "metadata": {
    "collapsed": false,
    "ExecuteTime": {
     "end_time": "2024-03-02T17:00:41.698897900Z",
     "start_time": "2024-03-02T17:00:41.560572700Z"
    }
   },
   "id": "94b8c132886fb42",
   "execution_count": 69
  },
  {
   "cell_type": "code",
   "outputs": [
    {
     "name": "stdout",
     "output_type": "stream",
     "text": [
      "(60800, 161)\n",
      "485499\n",
      "9303301\n",
      "(60800, 161)\n",
      "0\n",
      "9788800\n",
      "(60800,)\n",
      "(15200, 161)\n",
      "125868\n",
      "2321332\n",
      "(15200, 161)\n",
      "0\n",
      "2447200\n",
      "(15200,)\n"
     ]
    }
   ],
   "source": [
    "print(train_features.shape)\n",
    "print(np.count_nonzero(np.isnan(train_features)))\n",
    "print(np.count_nonzero(~np.isnan(train_features)))\n",
    "print(train_features_imputed.shape)\n",
    "print(np.count_nonzero(np.isnan(train_features_imputed)))\n",
    "print(np.count_nonzero(~np.isnan(train_features_imputed)))\n",
    "print(train_labels.shape)\n",
    "print(test_features.shape)\n",
    "print(np.count_nonzero(np.isnan(test_features)))\n",
    "print(np.count_nonzero(~np.isnan(test_features)))\n",
    "print(test_features_imputed.shape)\n",
    "print(np.count_nonzero(np.isnan(test_features_imputed)))\n",
    "print(np.count_nonzero(~np.isnan(test_features_imputed)))\n",
    "print(test_labels.shape)"
   ],
   "metadata": {
    "collapsed": false,
    "ExecuteTime": {
     "end_time": "2024-03-01T21:03:03.786424Z",
     "start_time": "2024-03-01T21:03:03.722254100Z"
    }
   },
   "id": "4352bfc1e1f65ca7",
   "execution_count": 26
  },
  {
   "cell_type": "code",
   "outputs": [],
   "source": [
    "# explore data \n",
    "\n",
    "# How to handle Nan Values\n",
    "# 1) drop column if to many are missing more than 50% missing\n",
    "\n",
    "# 2) handle histogram values (10 same prefix 'ag', 'ay', 'az', 'ba', 'cn', 'cs', 'ee')\n",
    "# 3) predict missing values y using an iterative model MICE ??? ( use train and test to for this ???? test influences train !!!))) bad practice\n",
    "# 4) important feature selection RFE ?? 15  x ?\n",
    "\n",
    "# ?) correlation matrix spearman remove collinear fields https://www.kaggle.com/code/evgenigeorg/classification-with-mlr3-r-total-cost-9500/notebook r\n",
    "## simple imoutation (scatter plots\n",
    "# 5) maybe drop columns with no variance / standard deviation = 0??? https://www.kaggle.com/code/aayushsin7a/scania-aps-failure-prediction\n",
    "#It is always a good practice to identify and replace missing values for each column in your input data prior to modeling your prediction task. This is called missing data imputation, or imputing for short.\n",
    "\n",
    "#We can perform some basic handling of missing data in the following manner:\n",
    "\n",
    " #   We will discard features with more than 70% missing values.\n",
    " #   For features with missing values less than 5%, we can drop those rows.\n",
    " #   For features with missing values between 5–15%, we will impute those missing values using mean/median.\n",
    " #   Now for the rest of the features with missing value% between 15–70% missing values, use model based imputation technique.\n",
    "\n",
    "# matrix decomposition / dimensionality reduction techniques PCA Principal Component Analysis https://www.kaggle.com/code/datark1/scania-aps-failures-a-pipeline-with-pca-and-ml\n",
    " \n",
    "# Feature selection by univariate statistics: (correlation)  SelectKBest / chi squared distribution  pca https://www.kaggle.com/code/romulomadu/minimizing-total-cost-result-9020-00\n",
    "\n",
    "# Scaling Data Normalization (Standatd SLacer ???? https://www.kaggle.com/code/romulomadu/minimizing-total-cost-result-9020-00\n",
    "\n",
    "# continous vs discrete variables !!!!! https://www.kaggle.com/code/leekahwin/oversampling-or-undersampling-classification-task\n",
    "# Skewness of variable (shifted normal distribution)\n",
    "# Impute Categorical Variable with Mode\n",
    "# Impute all other Left Skewd Variable with Median\n",
    "# scaling\n",
    "# feature selectin SelectFrom Mode\n",
    "\n",
    "# what preprocessing is necessary\n",
    "\n",
    "# pickle\n",
    "\n",
    "\n",
    "\n",
    "## over under sampling https://www.kaggle.com/code/leekahwin/oversampling-or-undersampling-classification-task\n",
    "\n",
    "## merging into one table https://www.kaggle.com/code/leekahwin/oversampling-or-undersampling-classification-task"
   ],
   "metadata": {
    "collapsed": false
   },
   "id": "bca0c3dca523d972"
  },
  {
   "cell_type": "code",
   "outputs": [],
   "source": [
    "# save meta data in json\n",
    "# error handling\n",
    "# control randomness for reproduction\n",
    "\n",
    "# 1) split data into 5 different permutation (keep the class balance)\n",
    "# 1.1) -> with laying back or without ??? sklearn.model_selection.StratifiedKFold / StratifiedShuffleSplit ??? https://scikit-learn.org/stable/modules/cross_validation.html#k-fold\n",
    "# 1.2) -> stratified train test split ??? sklearn.model_selection.StratifiedGroupKFold -> 5 different non overlapping groups (each fold has distinct test set) \n",
    "# choose 1.2 distinct groups (each group is test set once) \n",
    "\n",
    "# 2) clean/repair data (do not mix train and test data! prevent indirect influence from train to test)\n",
    "\n",
    "# 3) data normalization \n",
    "# 3.1) scaler (euclidian distance is used in training, faster convergence)\n",
    "# 3.2) (normalization = scaling)\n",
    "\n",
    "# -> SAVE # dataset, fold/ test group number, (train) class ratio\n",
    "\n",
    "# 4) preprocessing with different methods (upsampling downsampling) / track amount of samples in each class before and after \n",
    "\n",
    "# -> SAVE # dataset, fold/ test group number, sampling method, train class ratio\n",
    "\n",
    "# 5) train data\n",
    "# 5.1) recreate classifier for MLPClassifier to exchange loss function https://discuss.pytorch.org/t/sklearn-model-to-pytorch-model/33532\n",
    "\n",
    "# -> SAVE # dataset, fold/ test group number, sampling method, train class ratio, train method,\n",
    "\n",
    "\n",
    "# 6) predict with -> test data -> check output (softmax vs class )\n",
    "\n",
    "# 7) run metrics (mean) -> which metrics ??? ???\n",
    "# -> SAVE # dataset, sampling method, train class ratio, train method, array:[metric, value]\n",
    "\n",
    "# 8) difference to base line -> one base line for each train algorithm ->  which (sampling/cost method) was better for dataset X train algorithm ??? -> general statement possible ???\n",
    "# -> SAVE # dataset, sampling method, train class ratio, train method, array:[metric, value]\n",
    "\n",
    "# 9) graphical view ???\n",
    "# 9.1) table, (mark best) https://plotly.com/python/table/\n",
    "# https://plotly.com/python/\n",
    "# https://plotly.com/python/LaTeX/\n"
   ],
   "metadata": {
    "collapsed": false
   },
   "id": "af8c0ed217f8dd6a"
  },
  {
   "cell_type": "code",
   "outputs": [],
   "source": [
    "# config json for controlling the flow \n",
    "\n",
    "# first write run config and (step)config + (step config and info) from previous steps\n",
    "# overwrite information and current config while adding current config\n",
    "\n",
    "\n",
    "# steps [preprocessing, sampling, training, metric]\n",
    "\n",
    "\n",
    "# preprocessing\n",
    "\n",
    "# folder name: <step_start_date>\n",
    "# pickle names (5x): \n",
    "# fold<number>_train_features.npy\n",
    "# fold<number>_train_labels.npy\n",
    "# fold<number>_test_features.npy\n",
    "# fold<number>_test_labels.npy\n",
    "# config name: preprocessing_config_<step_start_date>.json [preprocessing config]\n",
    "# information: preprocessing_information_<step_start_date>.json -> obj fold : (pos_neg_train ratio, pos_train_number, neg_train_number)\n",
    "# run config\n",
    "# log\n",
    "\n",
    "\n",
    "# sampling\n",
    "\n",
    "# folder name: <step_start_date>\n",
    "# pickle names (5xN): \n",
    "# <sampling_methods>_fold<number>_train_features.npy\n",
    "# <sampling_methods>_fold<number>_train_labels.npy\n",
    "\n",
    "# config name: sampling_config_<step_start_date>.json [sampling config]\n",
    "# information: sampling_information_<step_start_date>.json  -> obj sampling : 5x obj fold : (pos_neg_train ratio, pos_train_number, neg_train_number)\n",
    "# run config\n",
    "# log\n",
    "\n",
    "\n",
    "# training \n",
    "\n",
    "# folder name: <step_start_date>\n",
    "# pickle names (5xNxM): \n",
    "# <model_name>_<sampling_methods>_fold_<number>_model.pth\n",
    "# config name: training_config_<step_start_date>.json [training config]\n",
    "# information: training_information_<step_start_date>.json  -> model_name sampling_methods fold \n",
    "# run config\n",
    "# log"
   ],
   "metadata": {
    "collapsed": false
   },
   "id": "bb711f349af0e7cc"
  }
 ],
 "metadata": {
  "kernelspec": {
   "display_name": "Python 3",
   "language": "python",
   "name": "python3"
  },
  "language_info": {
   "codemirror_mode": {
    "name": "ipython",
    "version": 2
   },
   "file_extension": ".py",
   "mimetype": "text/x-python",
   "name": "python",
   "nbconvert_exporter": "python",
   "pygments_lexer": "ipython2",
   "version": "2.7.6"
  }
 },
 "nbformat": 4,
 "nbformat_minor": 5
}
