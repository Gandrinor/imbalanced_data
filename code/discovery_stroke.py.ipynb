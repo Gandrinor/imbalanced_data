{
 "cells": [
  {
   "cell_type": "code",
   "execution_count": 1,
   "id": "initial_id",
   "metadata": {
    "collapsed": true,
    "ExecuteTime": {
     "end_time": "2024-03-09T12:47:15.610645400Z",
     "start_time": "2024-03-09T12:47:14.847311900Z"
    }
   },
   "outputs": [
    {
     "name": "stderr",
     "output_type": "stream",
     "text": [
      "C:\\Users\\magnusxd\\AppData\\Local\\Temp\\ipykernel_23452\\619512384.py:1: DeprecationWarning: \n",
      "Pyarrow will become a required dependency of pandas in the next major release of pandas (pandas 3.0),\n",
      "(to allow more performant data types, such as the Arrow string type, and better interoperability with other libraries)\n",
      "but was not found to be installed on your system.\n",
      "If this would cause problems for you,\n",
      "please provide us feedback at https://github.com/pandas-dev/pandas/issues/54466\n",
      "        \n",
      "  import pandas as pd\n"
     ]
    }
   ],
   "source": [
    "import pandas as pd\n",
    "import numpy as np\n",
    "import sklearn\n",
    "import matplotlib.pyplot as plt\n",
    "#import plotly as plt\n",
    "import pickle\n",
    "import logging"
   ]
  },
  {
   "cell_type": "code",
   "outputs": [],
   "source": [
    "# load data set from xls\n",
    "\n",
    "all_df = pd.read_csv('D:\\\\Programming\\\\PycharmProjects\\\\ba\\\\imbalanced_data\\\\data\\\\stroke\\\\00_raw\\\\healthcare-dataset-stroke-data.xls',na_values=[\"na\"])"
   ],
   "metadata": {
    "collapsed": false,
    "ExecuteTime": {
     "end_time": "2024-03-09T14:14:56.474106500Z",
     "start_time": "2024-03-09T14:14:56.467086Z"
    }
   },
   "id": "2eb2e072793b03e3",
   "execution_count": 17
  },
  {
   "cell_type": "code",
   "outputs": [
    {
     "data": {
      "text/plain": "(5110, 12)"
     },
     "execution_count": 17,
     "metadata": {},
     "output_type": "execute_result"
    }
   ],
   "source": [
    "all_df.shape"
   ],
   "metadata": {
    "collapsed": false,
    "ExecuteTime": {
     "end_time": "2024-03-09T10:15:27.808003100Z",
     "start_time": "2024-03-09T10:15:27.800730300Z"
    }
   },
   "id": "8c2b59afa3909916",
   "execution_count": 17
  },
  {
   "cell_type": "code",
   "outputs": [
    {
     "ename": "AttributeError",
     "evalue": "'Series' object has no attribute 'unique_value'",
     "output_type": "error",
     "traceback": [
      "\u001B[1;31m---------------------------------------------------------------------------\u001B[0m",
      "\u001B[1;31mAttributeError\u001B[0m                            Traceback (most recent call last)",
      "\u001B[1;32m~\\AppData\\Local\\Temp\\ipykernel_23452\\355920915.py\u001B[0m in \u001B[0;36m?\u001B[1;34m()\u001B[0m\n\u001B[1;32m----> 1\u001B[1;33m \u001B[0mall_df\u001B[0m\u001B[1;33m[\u001B[0m\u001B[1;34m\"stroke\"\u001B[0m\u001B[1;33m]\u001B[0m\u001B[1;33m.\u001B[0m\u001B[0munique_value\u001B[0m\u001B[1;33m\u001B[0m\u001B[1;33m\u001B[0m\u001B[0m\n\u001B[0m",
      "\u001B[1;32m~\\anaconda3\\envs\\ba\\Lib\\site-packages\\pandas\\core\\generic.py\u001B[0m in \u001B[0;36m?\u001B[1;34m(self, name)\u001B[0m\n\u001B[0;32m   6289\u001B[0m             \u001B[1;32mand\u001B[0m \u001B[0mname\u001B[0m \u001B[1;32mnot\u001B[0m \u001B[1;32min\u001B[0m \u001B[0mself\u001B[0m\u001B[1;33m.\u001B[0m\u001B[0m_accessors\u001B[0m\u001B[1;33m\u001B[0m\u001B[1;33m\u001B[0m\u001B[0m\n\u001B[0;32m   6290\u001B[0m             \u001B[1;32mand\u001B[0m \u001B[0mself\u001B[0m\u001B[1;33m.\u001B[0m\u001B[0m_info_axis\u001B[0m\u001B[1;33m.\u001B[0m\u001B[0m_can_hold_identifiers_and_holds_name\u001B[0m\u001B[1;33m(\u001B[0m\u001B[0mname\u001B[0m\u001B[1;33m)\u001B[0m\u001B[1;33m\u001B[0m\u001B[1;33m\u001B[0m\u001B[0m\n\u001B[0;32m   6291\u001B[0m         ):\n\u001B[0;32m   6292\u001B[0m             \u001B[1;32mreturn\u001B[0m \u001B[0mself\u001B[0m\u001B[1;33m[\u001B[0m\u001B[0mname\u001B[0m\u001B[1;33m]\u001B[0m\u001B[1;33m\u001B[0m\u001B[1;33m\u001B[0m\u001B[0m\n\u001B[1;32m-> 6293\u001B[1;33m         \u001B[1;32mreturn\u001B[0m \u001B[0mobject\u001B[0m\u001B[1;33m.\u001B[0m\u001B[0m__getattribute__\u001B[0m\u001B[1;33m(\u001B[0m\u001B[0mself\u001B[0m\u001B[1;33m,\u001B[0m \u001B[0mname\u001B[0m\u001B[1;33m)\u001B[0m\u001B[1;33m\u001B[0m\u001B[1;33m\u001B[0m\u001B[0m\n\u001B[0m",
      "\u001B[1;31mAttributeError\u001B[0m: 'Series' object has no attribute 'unique_value'"
     ]
    }
   ],
   "source": [],
   "metadata": {
    "collapsed": false,
    "ExecuteTime": {
     "end_time": "2024-03-09T14:16:16.742928800Z",
     "start_time": "2024-03-09T14:16:16.736423200Z"
    }
   },
   "id": "fdb24ca1cc856287",
   "execution_count": 21
  },
  {
   "cell_type": "code",
   "outputs": [
    {
     "data": {
      "text/plain": "      id  gender   age  hypertension  heart_disease ever_married  \\\n0   9046    Male  67.0             0              1          Yes   \n1  51676  Female  61.0             0              0          Yes   \n2  31112    Male  80.0             0              1          Yes   \n3  60182  Female  49.0             0              0          Yes   \n4   1665  Female  79.0             1              0          Yes   \n\n       work_type Residence_type  avg_glucose_level   bmi   smoking_status  \\\n0        Private          Urban             228.69  36.6  formerly smoked   \n1  Self-employed          Rural             202.21   NaN     never smoked   \n2        Private          Rural             105.92  32.5     never smoked   \n3        Private          Urban             171.23  34.4           smokes   \n4  Self-employed          Rural             174.12  24.0     never smoked   \n\n   stroke  \n0       1  \n1       1  \n2       1  \n3       1  \n4       1  ",
      "text/html": "<div>\n<style scoped>\n    .dataframe tbody tr th:only-of-type {\n        vertical-align: middle;\n    }\n\n    .dataframe tbody tr th {\n        vertical-align: top;\n    }\n\n    .dataframe thead th {\n        text-align: right;\n    }\n</style>\n<table border=\"1\" class=\"dataframe\">\n  <thead>\n    <tr style=\"text-align: right;\">\n      <th></th>\n      <th>id</th>\n      <th>gender</th>\n      <th>age</th>\n      <th>hypertension</th>\n      <th>heart_disease</th>\n      <th>ever_married</th>\n      <th>work_type</th>\n      <th>Residence_type</th>\n      <th>avg_glucose_level</th>\n      <th>bmi</th>\n      <th>smoking_status</th>\n      <th>stroke</th>\n    </tr>\n  </thead>\n  <tbody>\n    <tr>\n      <th>0</th>\n      <td>9046</td>\n      <td>Male</td>\n      <td>67.0</td>\n      <td>0</td>\n      <td>1</td>\n      <td>Yes</td>\n      <td>Private</td>\n      <td>Urban</td>\n      <td>228.69</td>\n      <td>36.6</td>\n      <td>formerly smoked</td>\n      <td>1</td>\n    </tr>\n    <tr>\n      <th>1</th>\n      <td>51676</td>\n      <td>Female</td>\n      <td>61.0</td>\n      <td>0</td>\n      <td>0</td>\n      <td>Yes</td>\n      <td>Self-employed</td>\n      <td>Rural</td>\n      <td>202.21</td>\n      <td>NaN</td>\n      <td>never smoked</td>\n      <td>1</td>\n    </tr>\n    <tr>\n      <th>2</th>\n      <td>31112</td>\n      <td>Male</td>\n      <td>80.0</td>\n      <td>0</td>\n      <td>1</td>\n      <td>Yes</td>\n      <td>Private</td>\n      <td>Rural</td>\n      <td>105.92</td>\n      <td>32.5</td>\n      <td>never smoked</td>\n      <td>1</td>\n    </tr>\n    <tr>\n      <th>3</th>\n      <td>60182</td>\n      <td>Female</td>\n      <td>49.0</td>\n      <td>0</td>\n      <td>0</td>\n      <td>Yes</td>\n      <td>Private</td>\n      <td>Urban</td>\n      <td>171.23</td>\n      <td>34.4</td>\n      <td>smokes</td>\n      <td>1</td>\n    </tr>\n    <tr>\n      <th>4</th>\n      <td>1665</td>\n      <td>Female</td>\n      <td>79.0</td>\n      <td>1</td>\n      <td>0</td>\n      <td>Yes</td>\n      <td>Self-employed</td>\n      <td>Rural</td>\n      <td>174.12</td>\n      <td>24.0</td>\n      <td>never smoked</td>\n      <td>1</td>\n    </tr>\n  </tbody>\n</table>\n</div>"
     },
     "execution_count": 3,
     "metadata": {},
     "output_type": "execute_result"
    }
   ],
   "source": [
    "all_df.head()\n",
    "\n",
    "# preprocessing change gender, ever_married to -> 0, 1\n",
    "# one hot encode work_type, residence_type, smoking status\n",
    "\n",
    "#drop or and impute ???? track how many missing field rows \n",
    "\n",
    "# scale\n"
   ],
   "metadata": {
    "collapsed": false,
    "ExecuteTime": {
     "end_time": "2024-03-09T10:10:40.175543900Z",
     "start_time": "2024-03-09T10:10:40.159956600Z"
    }
   },
   "id": "8cf45c4a84802a6b",
   "execution_count": 3
  },
  {
   "cell_type": "code",
   "outputs": [
    {
     "name": "stdout",
     "output_type": "stream",
     "text": [
      "0 value count: 4861\n",
      "1 value count: 249\n",
      "0 percentage: 0.95\n",
      "0 percentage: 0.05\n",
      "0 - 1 ratio: 1 : 19.522088353413654\n",
      "0 - 1 ratio: 3 : 58.566265060240966\n"
     ]
    }
   ],
   "source": [
    "unique_values_test = all_df[\"stroke\"].value_counts()\n",
    "pos_class = unique_values_test.index[0]\n",
    "neg_class = unique_values_test.index[1]\n",
    "pos_count = unique_values_test.iloc[0]\n",
    "neg_count = unique_values_test.iloc[1]\n",
    "print(\"{} value count: {}\".format(pos_class, pos_count))\n",
    "print(\"{} value count: {}\".format(neg_class, neg_count))\n",
    "print(\"{} percentage: {}\".format(pos_class, '%.2f'%(pos_count/(pos_count + neg_count))))\n",
    "print(\"{} percentage: {}\".format(pos_class, '%.2f'%(neg_count/(pos_count + neg_count))))\n",
    "print(\"{} - {} ratio: {}\".format(pos_class, neg_class, \"1 : {}\".format(pos_count/neg_count)))\n",
    "print(\"{} - {} ratio: {}\".format(pos_class, neg_class, \"3 : {}\".format((pos_count/neg_count)*3)))"
   ],
   "metadata": {
    "collapsed": false,
    "ExecuteTime": {
     "end_time": "2024-03-09T10:10:54.788620900Z",
     "start_time": "2024-03-09T10:10:54.781660500Z"
    }
   },
   "id": "d22edfcb33e89fa7",
   "execution_count": 5
  },
  {
   "cell_type": "code",
   "outputs": [
    {
     "data": {
      "text/plain": "                    count          mean           std    min        25%  \\\nid                 5110.0  36517.829354  21161.721625  67.00  17741.250   \nage                5110.0     43.226614     22.612647   0.08     25.000   \nhypertension       5110.0      0.097456      0.296607   0.00      0.000   \nheart_disease      5110.0      0.054012      0.226063   0.00      0.000   \navg_glucose_level  5110.0    106.147677     45.283560  55.12     77.245   \nbmi                4909.0     28.893237      7.854067  10.30     23.500   \nstroke             5110.0      0.048728      0.215320   0.00      0.000   \n\n                         50%       75%       max  \nid                 36932.000  54682.00  72940.00  \nage                   45.000     61.00     82.00  \nhypertension           0.000      0.00      1.00  \nheart_disease          0.000      0.00      1.00  \navg_glucose_level     91.885    114.09    271.74  \nbmi                   28.100     33.10     97.60  \nstroke                 0.000      0.00      1.00  ",
      "text/html": "<div>\n<style scoped>\n    .dataframe tbody tr th:only-of-type {\n        vertical-align: middle;\n    }\n\n    .dataframe tbody tr th {\n        vertical-align: top;\n    }\n\n    .dataframe thead th {\n        text-align: right;\n    }\n</style>\n<table border=\"1\" class=\"dataframe\">\n  <thead>\n    <tr style=\"text-align: right;\">\n      <th></th>\n      <th>count</th>\n      <th>mean</th>\n      <th>std</th>\n      <th>min</th>\n      <th>25%</th>\n      <th>50%</th>\n      <th>75%</th>\n      <th>max</th>\n    </tr>\n  </thead>\n  <tbody>\n    <tr>\n      <th>id</th>\n      <td>5110.0</td>\n      <td>36517.829354</td>\n      <td>21161.721625</td>\n      <td>67.00</td>\n      <td>17741.250</td>\n      <td>36932.000</td>\n      <td>54682.00</td>\n      <td>72940.00</td>\n    </tr>\n    <tr>\n      <th>age</th>\n      <td>5110.0</td>\n      <td>43.226614</td>\n      <td>22.612647</td>\n      <td>0.08</td>\n      <td>25.000</td>\n      <td>45.000</td>\n      <td>61.00</td>\n      <td>82.00</td>\n    </tr>\n    <tr>\n      <th>hypertension</th>\n      <td>5110.0</td>\n      <td>0.097456</td>\n      <td>0.296607</td>\n      <td>0.00</td>\n      <td>0.000</td>\n      <td>0.000</td>\n      <td>0.00</td>\n      <td>1.00</td>\n    </tr>\n    <tr>\n      <th>heart_disease</th>\n      <td>5110.0</td>\n      <td>0.054012</td>\n      <td>0.226063</td>\n      <td>0.00</td>\n      <td>0.000</td>\n      <td>0.000</td>\n      <td>0.00</td>\n      <td>1.00</td>\n    </tr>\n    <tr>\n      <th>avg_glucose_level</th>\n      <td>5110.0</td>\n      <td>106.147677</td>\n      <td>45.283560</td>\n      <td>55.12</td>\n      <td>77.245</td>\n      <td>91.885</td>\n      <td>114.09</td>\n      <td>271.74</td>\n    </tr>\n    <tr>\n      <th>bmi</th>\n      <td>4909.0</td>\n      <td>28.893237</td>\n      <td>7.854067</td>\n      <td>10.30</td>\n      <td>23.500</td>\n      <td>28.100</td>\n      <td>33.10</td>\n      <td>97.60</td>\n    </tr>\n    <tr>\n      <th>stroke</th>\n      <td>5110.0</td>\n      <td>0.048728</td>\n      <td>0.215320</td>\n      <td>0.00</td>\n      <td>0.000</td>\n      <td>0.000</td>\n      <td>0.00</td>\n      <td>1.00</td>\n    </tr>\n  </tbody>\n</table>\n</div>"
     },
     "execution_count": 6,
     "metadata": {},
     "output_type": "execute_result"
    }
   ],
   "source": [
    "all_df.describe().T"
   ],
   "metadata": {
    "collapsed": false,
    "ExecuteTime": {
     "end_time": "2024-03-09T10:11:25.621579800Z",
     "start_time": "2024-03-09T10:11:25.598799700Z"
    }
   },
   "id": "939349285b913f4b",
   "execution_count": 6
  },
  {
   "cell_type": "code",
   "outputs": [],
   "source": [
    "nan_values = all_df.isna().sum(axis=0).sort_values(ascending=False)"
   ],
   "metadata": {
    "collapsed": false,
    "ExecuteTime": {
     "end_time": "2024-03-09T12:47:24.774839600Z",
     "start_time": "2024-03-09T12:47:24.767518600Z"
    }
   },
   "id": "4b34b6fca2a68aa3",
   "execution_count": 3
  },
  {
   "cell_type": "code",
   "outputs": [
    {
     "data": {
      "text/plain": "<bound method NDFrame.head of bmi                  201\nid                     0\ngender                 0\nage                    0\nhypertension           0\nheart_disease          0\never_married           0\nwork_type              0\nResidence_type         0\navg_glucose_level      0\nsmoking_status         0\nstroke                 0\ndtype: int64>"
     },
     "execution_count": 16,
     "metadata": {},
     "output_type": "execute_result"
    }
   ],
   "source": [
    "nan_values.head"
   ],
   "metadata": {
    "collapsed": false,
    "ExecuteTime": {
     "end_time": "2024-03-09T10:14:11.919036100Z",
     "start_time": "2024-03-09T10:14:11.914936700Z"
    }
   },
   "id": "50f00b5b8d97bc2a",
   "execution_count": 16
  },
  {
   "cell_type": "code",
   "outputs": [
    {
     "name": "stdout",
     "output_type": "stream",
     "text": [
      "Percentage NaN Values (BMI colum) 3.93\n"
     ]
    }
   ],
   "source": [
    "print(\"Percentage NaN Values (BMI colum) %.2f\"%((nan_values[\"bmi\"]/all_df.shape[0])*100))"
   ],
   "metadata": {
    "collapsed": false,
    "ExecuteTime": {
     "end_time": "2024-03-09T10:25:02.801335500Z",
     "start_time": "2024-03-09T10:25:02.795244700Z"
    }
   },
   "id": "2992e6ab461a9406",
   "execution_count": 28
  },
  {
   "cell_type": "code",
   "outputs": [
    {
     "name": "stdout",
     "output_type": "stream",
     "text": [
      "0 value count: 4700\n",
      "1 value count: 209\n",
      "0 percentage: 0.96\n",
      "0 percentage: 0.04\n",
      "0 - 1 ratio: 1 : 22.48803827751196\n",
      "0 - 1 ratio: 3 : 67.46411483253588\n"
     ]
    }
   ],
   "source": [
    "unique_values_test = all_df.dropna()[\"stroke\"].value_counts()\n",
    "pos_class = unique_values_test.index[0]\n",
    "neg_class = unique_values_test.index[1]\n",
    "pos_count = unique_values_test.iloc[0]\n",
    "neg_count = unique_values_test.iloc[1]\n",
    "print(\"{} value count: {}\".format(pos_class, pos_count))\n",
    "print(\"{} value count: {}\".format(neg_class, neg_count))\n",
    "print(\"{} percentage: {}\".format(pos_class, '%.2f'%(pos_count/(pos_count + neg_count))))\n",
    "print(\"{} percentage: {}\".format(pos_class, '%.2f'%(neg_count/(pos_count + neg_count))))\n",
    "print(\"{} - {} ratio: {}\".format(pos_class, neg_class, \"1 : {}\".format(pos_count/neg_count)))\n",
    "print(\"{} - {} ratio: {}\".format(pos_class, neg_class, \"3 : {}\".format((pos_count/neg_count)*3)))"
   ],
   "metadata": {
    "collapsed": false,
    "ExecuteTime": {
     "end_time": "2024-03-09T10:21:00.175810600Z",
     "start_time": "2024-03-09T10:21:00.168700500Z"
    }
   },
   "id": "177021aa532c0bb1",
   "execution_count": 20
  },
  {
   "cell_type": "code",
   "outputs": [
    {
     "name": "stdout",
     "output_type": "stream",
     "text": [
      "(5110, 12)\n",
      "(4909, 12)\n",
      "(4909, 11)\n"
     ]
    }
   ],
   "source": [
    "print(all_df.shape)\n",
    "\n",
    "# drop rows with NaN bmi values (set index labels to 0, 1, ... n-1 to prevent issues when concatenating one hot encoded discrete features back to array later\n",
    "all_df = all_df.dropna(ignore_index=True)\n",
    "print(all_df.shape)\n",
    "# drop id row\n",
    "all_df = all_df.drop(labels=[\"id\"], axis=1)\n",
    "\n",
    "print(all_df.shape)\n"
   ],
   "metadata": {
    "collapsed": false,
    "ExecuteTime": {
     "end_time": "2024-03-09T12:47:48.757986800Z",
     "start_time": "2024-03-09T12:47:48.752750300Z"
    }
   },
   "id": "bff6ed7175e8a1da",
   "execution_count": 4
  },
  {
   "cell_type": "code",
   "outputs": [
    {
     "data": {
      "text/plain": "   number\n0     1.0\n1     2.0\n2     3.0\n3     5.0\n4     6.0",
      "text/html": "<div>\n<style scoped>\n    .dataframe tbody tr th:only-of-type {\n        vertical-align: middle;\n    }\n\n    .dataframe tbody tr th {\n        vertical-align: top;\n    }\n\n    .dataframe thead th {\n        text-align: right;\n    }\n</style>\n<table border=\"1\" class=\"dataframe\">\n  <thead>\n    <tr style=\"text-align: right;\">\n      <th></th>\n      <th>number</th>\n    </tr>\n  </thead>\n  <tbody>\n    <tr>\n      <th>0</th>\n      <td>1.0</td>\n    </tr>\n    <tr>\n      <th>1</th>\n      <td>2.0</td>\n    </tr>\n    <tr>\n      <th>2</th>\n      <td>3.0</td>\n    </tr>\n    <tr>\n      <th>3</th>\n      <td>5.0</td>\n    </tr>\n    <tr>\n      <th>4</th>\n      <td>6.0</td>\n    </tr>\n  </tbody>\n</table>\n</div>"
     },
     "execution_count": 129,
     "metadata": {},
     "output_type": "execute_result"
    }
   ],
   "source": [
    "#pd.DataFrame([1,2,3,np.NAN,5,6], columns=[\"number\"]).dropna(ignore_index=True)"
   ],
   "metadata": {
    "collapsed": false,
    "ExecuteTime": {
     "end_time": "2024-03-09T12:45:22.528904200Z",
     "start_time": "2024-03-09T12:45:22.519104600Z"
    }
   },
   "id": "8e07bca839b37163",
   "execution_count": 129
  },
  {
   "cell_type": "code",
   "outputs": [
    {
     "name": "stdout",
     "output_type": "stream",
     "text": [
      "\n",
      "discrete columns: ['gender', 'ever_married', 'work_type', 'Residence_type', 'smoking_status']\n",
      "\n",
      "unique value count for discrete columns:\n",
      "gender            3\n",
      "ever_married      2\n",
      "work_type         5\n",
      "Residence_type    2\n",
      "smoking_status    4\n",
      "dtype: int64\n",
      "\n",
      "total rows one hot encoded: 16\n",
      "\n",
      "list unique values of discrete columns:\n",
      "['Male', 'Female', 'Other']\n",
      "['Yes', 'No']\n",
      "['Private', 'Self-employed', 'Govt_job', 'children', 'Never_worked']\n",
      "['Urban', 'Rural']\n",
      "['formerly smoked', 'never smoked', 'smokes', 'Unknown']\n",
      "\n",
      "flat categories for pd column names: ['Male', 'Female', 'Other', 'Yes', 'No', 'Private', 'Self-employed', 'Govt_job', 'children', 'Never_worked', 'Urban', 'Rural', 'formerly smoked', 'never smoked', 'smokes', 'Unknown']\n",
      "(4909, 16)\n",
      "Index(['Male', 'Female', 'Other', 'Yes', 'No', 'Private', 'Self-employed',\n",
      "       'Govt_job', 'children', 'Never_worked', 'Urban', 'Rural',\n",
      "       'formerly smoked', 'never smoked', 'smokes', 'Unknown'],\n",
      "      dtype='object')\n"
     ]
    }
   ],
   "source": [
    "from sklearn.preprocessing import OneHotEncoder\n",
    "\n",
    "#create categories list from unique row values\n",
    "\n",
    "discrete_columns = all_df.dtypes[all_df.dtypes=='object'].index.to_list()\n",
    "print(f\"\\ndiscrete columns: {discrete_columns}\")\n",
    "\n",
    "unique_values_count = all_df[discrete_columns].nunique(axis=0)\n",
    "print(\"\\nunique value count for discrete columns:\\n{}\".format(unique_values_count))\n",
    "print(\"\\ntotal rows one hot encoded: {}\".format(unique_values_count.sum()))\n",
    "\n",
    "categories = []\n",
    "print(\"\\nlist unique values of discrete columns:\")\n",
    "for column in discrete_columns:\n",
    "    unique_values = pd.unique(all_df[column]).tolist()\n",
    "    categories.append(unique_values)\n",
    "    print(unique_values)\n",
    "\n",
    "flat_categories = [unq_val for uniq_vals in categories for unq_val in uniq_vals]\n",
    "print(\"\\nflat categories for pd column names: {}\".format(flat_categories))\n",
    "\n",
    "enc = OneHotEncoder(sparse_output=False, categories=categories)\n",
    "enc.fit(all_df[discrete_columns])\n",
    "result = enc.transform(all_df[discrete_columns])\n",
    "# print(f\"({len(result)},{len(result[0])})\")\n",
    "one_hot_encoded_discrete_features_df = pd.DataFrame(result, columns=flat_categories)\n",
    "print(one_hot_encoded_discrete_features_df.shape)\n",
    "print(one_hot_encoded_discrete_features_df.columns)\n",
    "\n",
    "\n",
    "\n",
    "# print(type(result))\n",
    "# print(len(result[0]))\n",
    "# print(enc.categories_)\n",
    "# print(enc.n_features_in_)\n",
    "# print(enc.get_feature_names_out())"
   ],
   "metadata": {
    "collapsed": false,
    "ExecuteTime": {
     "end_time": "2024-03-09T12:48:11.735919500Z",
     "start_time": "2024-03-09T12:48:11.705656200Z"
    }
   },
   "id": "6c5b23e733b47efd",
   "execution_count": 5
  },
  {
   "cell_type": "code",
   "outputs": [
    {
     "name": "stdout",
     "output_type": "stream",
     "text": [
      "Index(['age', 'hypertension', 'heart_disease', 'avg_glucose_level', 'bmi',\n",
      "       'stroke'],\n",
      "      dtype='object')\n",
      "(4909, 6)\n",
      "12046686\n",
      "Index(['Male', 'Female', 'Other', 'Yes', 'No', 'Private', 'Self-employed',\n",
      "       'Govt_job', 'children', 'Never_worked', 'Urban', 'Rural',\n",
      "       'formerly smoked', 'never smoked', 'smokes', 'Unknown'],\n",
      "      dtype='object')\n",
      "(4909, 16)\n",
      "12046686\n",
      "(4909, 22)\n"
     ]
    }
   ],
   "source": [
    "# drop old discrete colums\n",
    "all_df = all_df.drop(labels=discrete_columns, axis=1)\n",
    "print(all_df.columns)\n",
    "print(all_df.shape)\n",
    "# print(np.sum(all_df.index.to_numpy()))\n",
    "\n",
    "print(one_hot_encoded_discrete_features_df.columns)\n",
    "print(one_hot_encoded_discrete_features_df.shape)\n",
    "# print(np.sum(one_hot_encoded_discrete_features_df.index.to_numpy()))\n",
    "\n",
    "\n",
    "\n",
    "# add on hot encoded discrete columns to df\n",
    "new_df = pd.concat([all_df, one_hot_encoded_discrete_features_df], axis=1)\n",
    "# new_df = all_df.append(one_hot_encoded_discrete_features_df)\n",
    "print(new_df.shape)"
   ],
   "metadata": {
    "collapsed": false,
    "ExecuteTime": {
     "end_time": "2024-03-09T12:49:01.866903Z",
     "start_time": "2024-03-09T12:49:01.860934700Z"
    }
   },
   "id": "67109f9b9643f4dc",
   "execution_count": 7
  },
  {
   "cell_type": "code",
   "outputs": [
    {
     "ename": "ValueError",
     "evalue": "Found array with 0 feature(s) (shape=(1, 0)) while a minimum of 1 is required.",
     "output_type": "error",
     "traceback": [
      "\u001B[1;31m---------------------------------------------------------------------------\u001B[0m",
      "\u001B[1;31mValueError\u001B[0m                                Traceback (most recent call last)",
      "Cell \u001B[1;32mIn[60], line 5\u001B[0m\n\u001B[0;32m      3\u001B[0m enc \u001B[38;5;241m=\u001B[39m OneHotEncoder(sparse_output\u001B[38;5;241m=\u001B[39m\u001B[38;5;28;01mFalse\u001B[39;00m, categories\u001B[38;5;241m=\u001B[39mcategories)\n\u001B[0;32m      4\u001B[0m X \u001B[38;5;241m=\u001B[39m [[\u001B[38;5;124m'\u001B[39m\u001B[38;5;124mfemale\u001B[39m\u001B[38;5;124m'\u001B[39m, \u001B[38;5;124m'\u001B[39m\u001B[38;5;124mfrom US\u001B[39m\u001B[38;5;124m'\u001B[39m, \u001B[38;5;124m'\u001B[39m\u001B[38;5;124muses Safari\u001B[39m\u001B[38;5;124m'\u001B[39m], [\u001B[38;5;124m'\u001B[39m\u001B[38;5;124mfemale\u001B[39m\u001B[38;5;124m'\u001B[39m, \u001B[38;5;124m'\u001B[39m\u001B[38;5;124mfrom Europe\u001B[39m\u001B[38;5;124m'\u001B[39m, \u001B[38;5;124m'\u001B[39m\u001B[38;5;124muses Firefox\u001B[39m\u001B[38;5;124m'\u001B[39m],[\u001B[38;5;124m'\u001B[39m\u001B[38;5;124mfemale\u001B[39m\u001B[38;5;124m'\u001B[39m, \u001B[38;5;124m'\u001B[39m\u001B[38;5;124mfrom Europe\u001B[39m\u001B[38;5;124m'\u001B[39m, \u001B[38;5;124m'\u001B[39m\u001B[38;5;124muses Chrome\u001B[39m\u001B[38;5;124m'\u001B[39m],[\u001B[38;5;124m'\u001B[39m\u001B[38;5;124mfemale\u001B[39m\u001B[38;5;124m'\u001B[39m, \u001B[38;5;124m'\u001B[39m\u001B[38;5;124mfrom Europe\u001B[39m\u001B[38;5;124m'\u001B[39m, \u001B[38;5;124m'\u001B[39m\u001B[38;5;124muses Edge\u001B[39m\u001B[38;5;124m'\u001B[39m]]\n\u001B[1;32m----> 5\u001B[0m enc \u001B[38;5;241m=\u001B[39m \u001B[43menc\u001B[49m\u001B[38;5;241;43m.\u001B[39;49m\u001B[43mfit\u001B[49m\u001B[43m(\u001B[49m\u001B[43m[\u001B[49m\u001B[43m[\u001B[49m\u001B[43m]\u001B[49m\u001B[43m]\u001B[49m\u001B[43m)\u001B[49m\n\u001B[0;32m      6\u001B[0m result \u001B[38;5;241m=\u001B[39m enc\u001B[38;5;241m.\u001B[39mtransform([[\u001B[38;5;124m'\u001B[39m\u001B[38;5;124mfemale\u001B[39m\u001B[38;5;124m'\u001B[39m, \u001B[38;5;124m'\u001B[39m\u001B[38;5;124mfrom US\u001B[39m\u001B[38;5;124m'\u001B[39m, \u001B[38;5;124m'\u001B[39m\u001B[38;5;124muses Safari\u001B[39m\u001B[38;5;124m'\u001B[39m],[\u001B[38;5;124m'\u001B[39m\u001B[38;5;124mfemale\u001B[39m\u001B[38;5;124m'\u001B[39m, \u001B[38;5;124m'\u001B[39m\u001B[38;5;124mfrom Europe\u001B[39m\u001B[38;5;124m'\u001B[39m, \u001B[38;5;124m'\u001B[39m\u001B[38;5;124muses Firefox\u001B[39m\u001B[38;5;124m'\u001B[39m],[\u001B[38;5;124m'\u001B[39m\u001B[38;5;124mfemale\u001B[39m\u001B[38;5;124m'\u001B[39m, \u001B[38;5;124m'\u001B[39m\u001B[38;5;124mfrom Europe\u001B[39m\u001B[38;5;124m'\u001B[39m, \u001B[38;5;124m'\u001B[39m\u001B[38;5;124muses Chrome\u001B[39m\u001B[38;5;124m'\u001B[39m],[\u001B[38;5;124m'\u001B[39m\u001B[38;5;124mfemale\u001B[39m\u001B[38;5;124m'\u001B[39m, \u001B[38;5;124m'\u001B[39m\u001B[38;5;124mfrom Europe\u001B[39m\u001B[38;5;124m'\u001B[39m, \u001B[38;5;124m'\u001B[39m\u001B[38;5;124muses Edge\u001B[39m\u001B[38;5;124m'\u001B[39m]])\n\u001B[0;32m      7\u001B[0m \u001B[38;5;28mprint\u001B[39m(result)\n",
      "File \u001B[1;32m~\\anaconda3\\envs\\ba\\Lib\\site-packages\\sklearn\\base.py:1351\u001B[0m, in \u001B[0;36m_fit_context.<locals>.decorator.<locals>.wrapper\u001B[1;34m(estimator, *args, **kwargs)\u001B[0m\n\u001B[0;32m   1344\u001B[0m     estimator\u001B[38;5;241m.\u001B[39m_validate_params()\n\u001B[0;32m   1346\u001B[0m \u001B[38;5;28;01mwith\u001B[39;00m config_context(\n\u001B[0;32m   1347\u001B[0m     skip_parameter_validation\u001B[38;5;241m=\u001B[39m(\n\u001B[0;32m   1348\u001B[0m         prefer_skip_nested_validation \u001B[38;5;129;01mor\u001B[39;00m global_skip_validation\n\u001B[0;32m   1349\u001B[0m     )\n\u001B[0;32m   1350\u001B[0m ):\n\u001B[1;32m-> 1351\u001B[0m     \u001B[38;5;28;01mreturn\u001B[39;00m \u001B[43mfit_method\u001B[49m\u001B[43m(\u001B[49m\u001B[43mestimator\u001B[49m\u001B[43m,\u001B[49m\u001B[43m \u001B[49m\u001B[38;5;241;43m*\u001B[39;49m\u001B[43margs\u001B[49m\u001B[43m,\u001B[49m\u001B[43m \u001B[49m\u001B[38;5;241;43m*\u001B[39;49m\u001B[38;5;241;43m*\u001B[39;49m\u001B[43mkwargs\u001B[49m\u001B[43m)\u001B[49m\n",
      "File \u001B[1;32m~\\anaconda3\\envs\\ba\\Lib\\site-packages\\sklearn\\preprocessing\\_encoders.py:975\u001B[0m, in \u001B[0;36mOneHotEncoder.fit\u001B[1;34m(self, X, y)\u001B[0m\n\u001B[0;32m    956\u001B[0m \u001B[38;5;129m@_fit_context\u001B[39m(prefer_skip_nested_validation\u001B[38;5;241m=\u001B[39m\u001B[38;5;28;01mTrue\u001B[39;00m)\n\u001B[0;32m    957\u001B[0m \u001B[38;5;28;01mdef\u001B[39;00m \u001B[38;5;21mfit\u001B[39m(\u001B[38;5;28mself\u001B[39m, X, y\u001B[38;5;241m=\u001B[39m\u001B[38;5;28;01mNone\u001B[39;00m):\n\u001B[0;32m    958\u001B[0m \u001B[38;5;250m    \u001B[39m\u001B[38;5;124;03m\"\"\"\u001B[39;00m\n\u001B[0;32m    959\u001B[0m \u001B[38;5;124;03m    Fit OneHotEncoder to X.\u001B[39;00m\n\u001B[0;32m    960\u001B[0m \n\u001B[1;32m   (...)\u001B[0m\n\u001B[0;32m    973\u001B[0m \u001B[38;5;124;03m        Fitted encoder.\u001B[39;00m\n\u001B[0;32m    974\u001B[0m \u001B[38;5;124;03m    \"\"\"\u001B[39;00m\n\u001B[1;32m--> 975\u001B[0m     \u001B[38;5;28;43mself\u001B[39;49m\u001B[38;5;241;43m.\u001B[39;49m\u001B[43m_fit\u001B[49m\u001B[43m(\u001B[49m\n\u001B[0;32m    976\u001B[0m \u001B[43m        \u001B[49m\u001B[43mX\u001B[49m\u001B[43m,\u001B[49m\n\u001B[0;32m    977\u001B[0m \u001B[43m        \u001B[49m\u001B[43mhandle_unknown\u001B[49m\u001B[38;5;241;43m=\u001B[39;49m\u001B[38;5;28;43mself\u001B[39;49m\u001B[38;5;241;43m.\u001B[39;49m\u001B[43mhandle_unknown\u001B[49m\u001B[43m,\u001B[49m\n\u001B[0;32m    978\u001B[0m \u001B[43m        \u001B[49m\u001B[43mforce_all_finite\u001B[49m\u001B[38;5;241;43m=\u001B[39;49m\u001B[38;5;124;43m\"\u001B[39;49m\u001B[38;5;124;43mallow-nan\u001B[39;49m\u001B[38;5;124;43m\"\u001B[39;49m\u001B[43m,\u001B[49m\n\u001B[0;32m    979\u001B[0m \u001B[43m    \u001B[49m\u001B[43m)\u001B[49m\n\u001B[0;32m    980\u001B[0m     \u001B[38;5;28mself\u001B[39m\u001B[38;5;241m.\u001B[39m_set_drop_idx()\n\u001B[0;32m    981\u001B[0m     \u001B[38;5;28mself\u001B[39m\u001B[38;5;241m.\u001B[39m_n_features_outs \u001B[38;5;241m=\u001B[39m \u001B[38;5;28mself\u001B[39m\u001B[38;5;241m.\u001B[39m_compute_n_features_outs()\n",
      "File \u001B[1;32m~\\anaconda3\\envs\\ba\\Lib\\site-packages\\sklearn\\preprocessing\\_encoders.py:78\u001B[0m, in \u001B[0;36m_BaseEncoder._fit\u001B[1;34m(self, X, handle_unknown, force_all_finite, return_counts, return_and_ignore_missing_for_infrequent)\u001B[0m\n\u001B[0;32m     76\u001B[0m \u001B[38;5;28mself\u001B[39m\u001B[38;5;241m.\u001B[39m_check_n_features(X, reset\u001B[38;5;241m=\u001B[39m\u001B[38;5;28;01mTrue\u001B[39;00m)\n\u001B[0;32m     77\u001B[0m \u001B[38;5;28mself\u001B[39m\u001B[38;5;241m.\u001B[39m_check_feature_names(X, reset\u001B[38;5;241m=\u001B[39m\u001B[38;5;28;01mTrue\u001B[39;00m)\n\u001B[1;32m---> 78\u001B[0m X_list, n_samples, n_features \u001B[38;5;241m=\u001B[39m \u001B[38;5;28;43mself\u001B[39;49m\u001B[38;5;241;43m.\u001B[39;49m\u001B[43m_check_X\u001B[49m\u001B[43m(\u001B[49m\n\u001B[0;32m     79\u001B[0m \u001B[43m    \u001B[49m\u001B[43mX\u001B[49m\u001B[43m,\u001B[49m\u001B[43m \u001B[49m\u001B[43mforce_all_finite\u001B[49m\u001B[38;5;241;43m=\u001B[39;49m\u001B[43mforce_all_finite\u001B[49m\n\u001B[0;32m     80\u001B[0m \u001B[43m\u001B[49m\u001B[43m)\u001B[49m\n\u001B[0;32m     81\u001B[0m \u001B[38;5;28mself\u001B[39m\u001B[38;5;241m.\u001B[39mn_features_in_ \u001B[38;5;241m=\u001B[39m n_features\n\u001B[0;32m     83\u001B[0m \u001B[38;5;28;01mif\u001B[39;00m \u001B[38;5;28mself\u001B[39m\u001B[38;5;241m.\u001B[39mcategories \u001B[38;5;241m!=\u001B[39m \u001B[38;5;124m\"\u001B[39m\u001B[38;5;124mauto\u001B[39m\u001B[38;5;124m\"\u001B[39m:\n",
      "File \u001B[1;32m~\\anaconda3\\envs\\ba\\Lib\\site-packages\\sklearn\\preprocessing\\_encoders.py:44\u001B[0m, in \u001B[0;36m_BaseEncoder._check_X\u001B[1;34m(self, X, force_all_finite)\u001B[0m\n\u001B[0;32m     31\u001B[0m \u001B[38;5;250m\u001B[39m\u001B[38;5;124;03m\"\"\"\u001B[39;00m\n\u001B[0;32m     32\u001B[0m \u001B[38;5;124;03mPerform custom check_array:\u001B[39;00m\n\u001B[0;32m     33\u001B[0m \u001B[38;5;124;03m- convert list of strings to object dtype\u001B[39;00m\n\u001B[1;32m   (...)\u001B[0m\n\u001B[0;32m     40\u001B[0m \n\u001B[0;32m     41\u001B[0m \u001B[38;5;124;03m\"\"\"\u001B[39;00m\n\u001B[0;32m     42\u001B[0m \u001B[38;5;28;01mif\u001B[39;00m \u001B[38;5;129;01mnot\u001B[39;00m (\u001B[38;5;28mhasattr\u001B[39m(X, \u001B[38;5;124m\"\u001B[39m\u001B[38;5;124miloc\u001B[39m\u001B[38;5;124m\"\u001B[39m) \u001B[38;5;129;01mand\u001B[39;00m \u001B[38;5;28mgetattr\u001B[39m(X, \u001B[38;5;124m\"\u001B[39m\u001B[38;5;124mndim\u001B[39m\u001B[38;5;124m\"\u001B[39m, \u001B[38;5;241m0\u001B[39m) \u001B[38;5;241m==\u001B[39m \u001B[38;5;241m2\u001B[39m):\n\u001B[0;32m     43\u001B[0m     \u001B[38;5;66;03m# if not a dataframe, do normal check_array validation\u001B[39;00m\n\u001B[1;32m---> 44\u001B[0m     X_temp \u001B[38;5;241m=\u001B[39m \u001B[43mcheck_array\u001B[49m\u001B[43m(\u001B[49m\u001B[43mX\u001B[49m\u001B[43m,\u001B[49m\u001B[43m \u001B[49m\u001B[43mdtype\u001B[49m\u001B[38;5;241;43m=\u001B[39;49m\u001B[38;5;28;43;01mNone\u001B[39;49;00m\u001B[43m,\u001B[49m\u001B[43m \u001B[49m\u001B[43mforce_all_finite\u001B[49m\u001B[38;5;241;43m=\u001B[39;49m\u001B[43mforce_all_finite\u001B[49m\u001B[43m)\u001B[49m\n\u001B[0;32m     45\u001B[0m     \u001B[38;5;28;01mif\u001B[39;00m \u001B[38;5;129;01mnot\u001B[39;00m \u001B[38;5;28mhasattr\u001B[39m(X, \u001B[38;5;124m\"\u001B[39m\u001B[38;5;124mdtype\u001B[39m\u001B[38;5;124m\"\u001B[39m) \u001B[38;5;129;01mand\u001B[39;00m np\u001B[38;5;241m.\u001B[39missubdtype(X_temp\u001B[38;5;241m.\u001B[39mdtype, np\u001B[38;5;241m.\u001B[39mstr_):\n\u001B[0;32m     46\u001B[0m         X \u001B[38;5;241m=\u001B[39m check_array(X, dtype\u001B[38;5;241m=\u001B[39m\u001B[38;5;28mobject\u001B[39m, force_all_finite\u001B[38;5;241m=\u001B[39mforce_all_finite)\n",
      "File \u001B[1;32m~\\anaconda3\\envs\\ba\\Lib\\site-packages\\sklearn\\utils\\validation.py:1035\u001B[0m, in \u001B[0;36mcheck_array\u001B[1;34m(array, accept_sparse, accept_large_sparse, dtype, order, copy, force_all_finite, ensure_2d, allow_nd, ensure_min_samples, ensure_min_features, estimator, input_name)\u001B[0m\n\u001B[0;32m   1033\u001B[0m     n_features \u001B[38;5;241m=\u001B[39m array\u001B[38;5;241m.\u001B[39mshape[\u001B[38;5;241m1\u001B[39m]\n\u001B[0;32m   1034\u001B[0m     \u001B[38;5;28;01mif\u001B[39;00m n_features \u001B[38;5;241m<\u001B[39m ensure_min_features:\n\u001B[1;32m-> 1035\u001B[0m         \u001B[38;5;28;01mraise\u001B[39;00m \u001B[38;5;167;01mValueError\u001B[39;00m(\n\u001B[0;32m   1036\u001B[0m             \u001B[38;5;124m\"\u001B[39m\u001B[38;5;124mFound array with \u001B[39m\u001B[38;5;132;01m%d\u001B[39;00m\u001B[38;5;124m feature(s) (shape=\u001B[39m\u001B[38;5;132;01m%s\u001B[39;00m\u001B[38;5;124m) while\u001B[39m\u001B[38;5;124m\"\u001B[39m\n\u001B[0;32m   1037\u001B[0m             \u001B[38;5;124m\"\u001B[39m\u001B[38;5;124m a minimum of \u001B[39m\u001B[38;5;132;01m%d\u001B[39;00m\u001B[38;5;124m is required\u001B[39m\u001B[38;5;132;01m%s\u001B[39;00m\u001B[38;5;124m.\u001B[39m\u001B[38;5;124m\"\u001B[39m\n\u001B[0;32m   1038\u001B[0m             \u001B[38;5;241m%\u001B[39m (n_features, array\u001B[38;5;241m.\u001B[39mshape, ensure_min_features, context)\n\u001B[0;32m   1039\u001B[0m         )\n\u001B[0;32m   1041\u001B[0m \u001B[38;5;28;01mreturn\u001B[39;00m array\n",
      "\u001B[1;31mValueError\u001B[0m: Found array with 0 feature(s) (shape=(1, 0)) while a minimum of 1 is required."
     ]
    }
   ],
   "source": [
    "# from sklearn.preprocessing import OneHotEncoder\n",
    "# categories = [['female'],['from Europe', 'from US'],['uses Chrome', 'uses Edge', 'uses Firefox', 'uses Safari']]\n",
    "# enc = OneHotEncoder(sparse_output=False, categories=categories)\n",
    "# X = [['female', 'from US', 'uses Safari'], ['female', 'from Europe', 'uses Firefox'],['female', 'from Europe', 'uses Chrome'],['female', 'from Europe', 'uses Edge']]\n",
    "# enc = enc.fit(X)\n",
    "# result = enc.transform([['female', 'from US', 'uses Safari'],['female', 'from Europe', 'uses Firefox'],['female', 'from Europe', 'uses Chrome'],['female', 'from Europe', 'uses Edge']])\n",
    "# print(result)\n",
    "# print(type(result))\n",
    "# print(len(result[0]))\n",
    "# print(enc.categories_)\n",
    "# print(enc.n_features_in_)\n",
    "# print(enc.get_feature_names_out())\n"
   ],
   "metadata": {
    "collapsed": false,
    "ExecuteTime": {
     "end_time": "2024-03-09T11:34:22.628599300Z",
     "start_time": "2024-03-09T11:34:22.578443800Z"
    }
   },
   "id": "83eb3736d18ec415",
   "execution_count": 60
  },
  {
   "cell_type": "code",
   "outputs": [
    {
     "name": "stdout",
     "output_type": "stream",
     "text": [
      "    age  hypertension  heart_disease  avg_glucose_level   bmi  stroke  Male  \\\n",
      "0  67.0             0              1             228.69  36.6       1   1.0   \n",
      "1  80.0             0              1             105.92  32.5       1   1.0   \n",
      "2  49.0             0              0             171.23  34.4       1   0.0   \n",
      "3  79.0             1              0             174.12  24.0       1   0.0   \n",
      "4  81.0             0              0             186.21  29.0       1   1.0   \n",
      "\n",
      "   Female  Other  Yes  ...  Self-employed  Govt_job  children  Never_worked  \\\n",
      "0     0.0    0.0  1.0  ...            0.0       0.0       0.0           0.0   \n",
      "1     0.0    0.0  1.0  ...            0.0       0.0       0.0           0.0   \n",
      "2     1.0    0.0  1.0  ...            0.0       0.0       0.0           0.0   \n",
      "3     1.0    0.0  1.0  ...            1.0       0.0       0.0           0.0   \n",
      "4     0.0    0.0  1.0  ...            0.0       0.0       0.0           0.0   \n",
      "\n",
      "   Urban  Rural  formerly smoked  never smoked  smokes  Unknown  \n",
      "0    1.0    0.0              1.0           0.0     0.0      0.0  \n",
      "1    0.0    1.0              0.0           1.0     0.0      0.0  \n",
      "2    1.0    0.0              0.0           0.0     1.0      0.0  \n",
      "3    0.0    1.0              0.0           1.0     0.0      0.0  \n",
      "4    1.0    0.0              1.0           0.0     0.0      0.0  \n",
      "\n",
      "[5 rows x 22 columns]\n",
      "(4909, 22)\n"
     ]
    }
   ],
   "source": [
    "print(new_df.head())\n",
    "print(new_df.shape)\n"
   ],
   "metadata": {
    "collapsed": false,
    "ExecuteTime": {
     "end_time": "2024-03-09T12:57:22.329794300Z",
     "start_time": "2024-03-09T12:57:22.323861600Z"
    }
   },
   "id": "8a1b2f89c802df0a",
   "execution_count": 16
  },
  {
   "cell_type": "code",
   "outputs": [
    {
     "name": "stdout",
     "output_type": "stream",
     "text": [
      "      id  gender   age  hypertension  heart_disease ever_married  \\\n",
      "0   9046    Male  67.0             0              1          Yes   \n",
      "1  51676  Female  61.0             0              0          Yes   \n",
      "2  31112    Male  80.0             0              1          Yes   \n",
      "3  60182  Female  49.0             0              0          Yes   \n",
      "4   1665  Female  79.0             1              0          Yes   \n",
      "\n",
      "       work_type Residence_type  avg_glucose_level   bmi   smoking_status  \\\n",
      "0        Private          Urban             228.69  36.6  formerly smoked   \n",
      "1  Self-employed          Rural             202.21   NaN     never smoked   \n",
      "2        Private          Rural             105.92  32.5     never smoked   \n",
      "3        Private          Urban             171.23  34.4           smokes   \n",
      "4  Self-employed          Rural             174.12  24.0     never smoked   \n",
      "\n",
      "   stroke  \n",
      "0       1  \n",
      "1       1  \n",
      "2       1  \n",
      "3       1  \n",
      "4       1  \n"
     ]
    }
   ],
   "source": [
    "print(all_df.head())"
   ],
   "metadata": {
    "collapsed": false,
    "ExecuteTime": {
     "end_time": "2024-03-09T12:56:12.812222100Z",
     "start_time": "2024-03-09T12:56:12.805238700Z"
    }
   },
   "id": "4b7ffb9813ff212e",
   "execution_count": 15
  },
  {
   "cell_type": "code",
   "outputs": [],
   "source": [],
   "metadata": {
    "collapsed": false
   },
   "id": "ca834dc0a3a5a31a"
  }
 ],
 "metadata": {
  "kernelspec": {
   "display_name": "Python 3",
   "language": "python",
   "name": "python3"
  },
  "language_info": {
   "codemirror_mode": {
    "name": "ipython",
    "version": 2
   },
   "file_extension": ".py",
   "mimetype": "text/x-python",
   "name": "python",
   "nbconvert_exporter": "python",
   "pygments_lexer": "ipython2",
   "version": "2.7.6"
  }
 },
 "nbformat": 4,
 "nbformat_minor": 5
}
