{
 "cells": [
  {
   "cell_type": "code",
   "execution_count": 31,
   "id": "initial_id",
   "metadata": {
    "collapsed": true,
    "ExecuteTime": {
     "end_time": "2024-03-13T19:27:48.600498500Z",
     "start_time": "2024-03-13T19:27:48.203499500Z"
    }
   },
   "outputs": [
    {
     "name": "stdout",
     "output_type": "stream",
     "text": [
      "n_layers_: 3\n",
      "n_outputs_: 1\n",
      "out_activation_: logistic\n",
      "n_features_in_: 161\n",
      "coefs_[0] | length: 161 | width: 100\n",
      "coefs_[1] | length: 100 | width: 1\n",
      "16200\n",
      "[0 0 0 0 0 0 0 0 0 0]\n"
     ]
    }
   ],
   "source": [
    "\n",
    "\n",
    "# load sklearn mlp\n",
    "\n",
    "# load saved model\n",
    "\n",
    "# get \n",
    "\n",
    "from joblib import load\n",
    "from imbalanced_data.code.util import utils\n",
    "\n",
    "\n",
    "model = load(\"D:\\\\Programming\\\\PycharmProjects\\\\ba\\\\imbalanced_data\\\\data\\\\air_pressure\\\\03_trained\\\\2024_03_12_23_33_32\\\\MLP_None_fold-0_model.joblib\") \n",
    "print(f\"n_layers_: {model.n_layers_}\")\n",
    "print(f\"n_outputs_: {model.n_outputs_}\")\n",
    "print(f\"out_activation_: {model.out_activation_}\")\n",
    "print(f\"n_features_in_: {model.n_features_in_}\")\n",
    "sum = 0\n",
    "for (index, coef) in enumerate(model.coefs_):\n",
    "    sum += len(coef)*len(coef[0])\n",
    "    print(f\"coefs_[{index}] | length: {len(coef)} | width: {len(coef[0])}\")\n",
    "print(sum)\n",
    "\n",
    "features = utils.unpickle(\"D:\\\\Programming\\\\PycharmProjects\\\\ba\\\\imbalanced_data\\\\data\\\\air_pressure\\\\01_preprocessed\\\\2024_03_08_18_57_50\\\\fold-0_test_features.npy\", is_numpy=True)\n",
    "labels = utils.unpickle(\"D:\\\\Programming\\\\PycharmProjects\\\\ba\\\\imbalanced_data\\\\data\\\\air_pressure\\\\01_preprocessed\\\\2024_03_08_18_57_50\\\\fold-0_test_labels.npy\", is_numpy=True)\n",
    "pred = model.predict(features)\n",
    "print(pred[:10])"
   ]
  },
  {
   "cell_type": "code",
   "outputs": [],
   "source": [
    "16301 - 100 -1\n",
    "\n",
    "161*100 = 16100\n",
    "100*1 = 100\n",
    "\n"
   ],
   "metadata": {
    "collapsed": false
   },
   "id": "75ee39ffad1bcf68"
  },
  {
   "cell_type": "code",
   "outputs": [
    {
     "name": "stdout",
     "output_type": "stream",
     "text": [
      "tensor([[-0.8126,  1.1367, -0.0326,  0.0743, -0.6228],\n",
      "        [ 1.1183, -1.4793,  0.2225,  0.7601,  0.9159],\n",
      "        [-0.9408,  0.4992,  0.0550,  1.3709,  0.1245]], requires_grad=True)\n",
      "tensor([[0.1267, 0.4241, 0.0841, 0.1542, 0.2110],\n",
      "        [0.4966, 0.1397, 0.1095, 0.1644, 0.0898],\n",
      "        [0.1357, 0.3296, 0.2232, 0.2178, 0.0937]])\n"
     ]
    }
   ],
   "source": [
    "import torch\n",
    "from torch import nn\n",
    "\n",
    "input = torch.randn(3, 5, requires_grad=True)\n",
    "target = torch.randn(3, 5).softmax(dim=1)\n",
    "# output = nn.CrossEntropyLoss(input, target)\n",
    "print(input)  \n",
    "print(target)\n",
    "# print(output)"
   ],
   "metadata": {
    "collapsed": false,
    "ExecuteTime": {
     "end_time": "2024-03-13T18:31:53.964220600Z",
     "start_time": "2024-03-13T18:31:53.959227700Z"
    }
   },
   "id": "efee703e8c6a3348",
   "execution_count": 6
  },
  {
   "cell_type": "code",
   "outputs": [
    {
     "name": "stdout",
     "output_type": "stream",
     "text": [
      "tensor([0., 0., 0., 0., 0., 0., 0., 0., 0., 0., 0., 0., 0., 0., 0., 0., 0., 0.,\n",
      "        0., 0., 0., 0., 0., 0., 1., 0., 0., 0., 0., 0., 0., 0., 0., 0., 0., 0.,\n",
      "        0., 0., 0., 0., 0., 0., 0., 0., 0., 0., 0., 0., 0., 0., 0., 0., 0., 0.,\n",
      "        0., 0., 0., 0., 0., 0., 0., 0., 0., 0., 0., 0., 0., 0., 0., 0., 0., 0.,\n",
      "        0., 0., 0., 0., 0., 0., 0., 0., 0., 0., 0., 0., 0., 0., 0., 0., 0., 0.,\n",
      "        0., 0., 0., 0., 0., 0., 0., 0., 0., 0., 0., 0., 0., 0., 0., 0., 0., 0.,\n",
      "        0., 0., 0., 0., 0., 0., 0., 0., 0., 0., 0., 0., 0., 0., 0., 0., 0., 0.,\n",
      "        0., 0., 0., 0., 0., 0., 0., 0., 0., 0., 0., 0., 0., 0., 0., 0., 0., 0.,\n",
      "        0., 0., 0., 0., 0., 0., 0., 0., 0., 0., 0., 0., 0., 0., 0., 0., 0., 0.,\n",
      "        0., 0., 0., 0., 1.])\n"
     ]
    }
   ],
   "source": [
    "from torch import Tensor\n",
    "\n",
    "list = [0, 0, 0, 0, 0, 0, 0, 0, 0, 0, 0, 0, 0, 0, 0, 0, 0, 0, 0, 0, 0, 0, 0, 0,\n",
    "        1, 0, 0, 0, 0, 0, 0, 0, 0, 0, 0, 0, 0, 0, 0, 0, 0, 0, 0, 0, 0, 0, 0, 0,\n",
    "        0, 0, 0, 0, 0, 0, 0, 0, 0, 0, 0, 0, 0, 0, 0, 0, 0, 0, 0, 0, 0, 0, 0, 0,\n",
    "        0, 0, 0, 0, 0, 0, 0, 0, 0, 0, 0, 0, 0, 0, 0, 0, 0, 0, 0, 0, 0, 0, 0, 0,\n",
    "        0, 0, 0, 0, 0, 0, 0, 0, 0, 0, 0, 0, 0, 0, 0, 0, 0, 0, 0, 0, 0, 0, 0, 0,\n",
    "        0, 0, 0, 0, 0, 0, 0, 0, 0, 0, 0, 0, 0, 0, 0, 0, 0, 0, 0, 0, 0, 0, 0, 0,\n",
    "        0, 0, 0, 0, 0, 0, 0, 0, 0, 0, 0, 0, 0, 0, 0, 0, 0, 0, 0, 0, 0, 0, 1]\n",
    "\n",
    "print(Tensor(list).unsqueeze(1).squeeze())"
   ],
   "metadata": {
    "collapsed": false,
    "ExecuteTime": {
     "end_time": "2024-03-15T14:18:48.851156300Z",
     "start_time": "2024-03-15T14:18:47.052473400Z"
    }
   },
   "id": "aa4f9defe65b8655",
   "execution_count": 1
  },
  {
   "cell_type": "code",
   "outputs": [
    {
     "name": "stdout",
     "output_type": "stream",
     "text": [
      "[[0]\n",
      " [0]\n",
      " [0]\n",
      " [0]\n",
      " [0]\n",
      " [0]\n",
      " [0]\n",
      " [0]\n",
      " [0]\n",
      " [0]\n",
      " [0]\n",
      " [0]\n",
      " [0]\n",
      " [0]\n",
      " [0]\n",
      " [0]\n",
      " [0]\n",
      " [0]\n",
      " [0]\n",
      " [0]\n",
      " [0]\n",
      " [0]\n",
      " [0]\n",
      " [0]\n",
      " [1]\n",
      " [0]\n",
      " [0]\n",
      " [0]\n",
      " [0]\n",
      " [0]\n",
      " [0]\n",
      " [0]\n",
      " [0]\n",
      " [0]\n",
      " [0]\n",
      " [0]\n",
      " [0]\n",
      " [0]\n",
      " [0]\n",
      " [0]\n",
      " [0]\n",
      " [0]\n",
      " [0]\n",
      " [0]\n",
      " [0]\n",
      " [0]\n",
      " [0]\n",
      " [0]\n",
      " [0]\n",
      " [0]\n",
      " [0]\n",
      " [0]\n",
      " [0]\n",
      " [0]\n",
      " [0]\n",
      " [0]\n",
      " [0]\n",
      " [0]\n",
      " [0]\n",
      " [0]\n",
      " [0]\n",
      " [0]\n",
      " [0]\n",
      " [0]\n",
      " [0]\n",
      " [0]\n",
      " [0]\n",
      " [0]\n",
      " [0]\n",
      " [0]\n",
      " [0]\n",
      " [0]\n",
      " [0]\n",
      " [0]\n",
      " [0]\n",
      " [0]\n",
      " [0]\n",
      " [0]\n",
      " [0]\n",
      " [0]\n",
      " [0]\n",
      " [0]\n",
      " [0]\n",
      " [0]\n",
      " [0]\n",
      " [0]\n",
      " [0]\n",
      " [0]\n",
      " [0]\n",
      " [0]\n",
      " [0]\n",
      " [0]\n",
      " [0]\n",
      " [0]\n",
      " [0]\n",
      " [0]\n",
      " [0]\n",
      " [0]\n",
      " [0]\n",
      " [0]\n",
      " [0]\n",
      " [0]\n",
      " [0]\n",
      " [0]\n",
      " [0]\n",
      " [0]\n",
      " [0]\n",
      " [0]\n",
      " [0]\n",
      " [0]\n",
      " [0]\n",
      " [0]\n",
      " [0]\n",
      " [0]\n",
      " [0]\n",
      " [0]\n",
      " [0]\n",
      " [0]\n",
      " [0]\n",
      " [0]\n",
      " [0]\n",
      " [0]\n",
      " [0]\n",
      " [0]\n",
      " [0]\n",
      " [0]\n",
      " [0]\n",
      " [0]\n",
      " [0]\n",
      " [0]\n",
      " [0]\n",
      " [0]\n",
      " [0]\n",
      " [0]\n",
      " [0]\n",
      " [0]\n",
      " [0]\n",
      " [0]\n",
      " [0]\n",
      " [0]\n",
      " [0]\n",
      " [0]\n",
      " [0]\n",
      " [0]\n",
      " [0]\n",
      " [0]\n",
      " [0]\n",
      " [0]\n",
      " [0]\n",
      " [0]\n",
      " [0]\n",
      " [0]\n",
      " [0]\n",
      " [0]\n",
      " [0]\n",
      " [0]\n",
      " [0]\n",
      " [0]\n",
      " [0]\n",
      " [0]\n",
      " [0]\n",
      " [0]\n",
      " [0]\n",
      " [0]\n",
      " [0]\n",
      " [0]\n",
      " [1]]\n",
      "1\n"
     ]
    }
   ],
   "source": [
    "import numpy as np\n",
    "\n",
    "list = [0, 0, 0, 0, 0, 0, 0, 0, 0, 0, 0, 0, 0, 0, 0, 0, 0, 0, 0, 0, 0, 0, 0, 0,\n",
    "        1, 0, 0, 0, 0, 0, 0, 0, 0, 0, 0, 0, 0, 0, 0, 0, 0, 0, 0, 0, 0, 0, 0, 0,\n",
    "        0, 0, 0, 0, 0, 0, 0, 0, 0, 0, 0, 0, 0, 0, 0, 0, 0, 0, 0, 0, 0, 0, 0, 0,\n",
    "        0, 0, 0, 0, 0, 0, 0, 0, 0, 0, 0, 0, 0, 0, 0, 0, 0, 0, 0, 0, 0, 0, 0, 0,\n",
    "        0, 0, 0, 0, 0, 0, 0, 0, 0, 0, 0, 0, 0, 0, 0, 0, 0, 0, 0, 0, 0, 0, 0, 0,\n",
    "        0, 0, 0, 0, 0, 0, 0, 0, 0, 0, 0, 0, 0, 0, 0, 0, 0, 0, 0, 0, 0, 0, 0, 0,\n",
    "        0, 0, 0, 0, 0, 0, 0, 0, 0, 0, 0, 0, 0, 0, 0, 0, 0, 0, 0, 0, 0, 0, 1]\n",
    "labels = np.array(list).reshape((-1, 1))\n",
    "print(labels)\n",
    "print(labels.shape[1])"
   ],
   "metadata": {
    "collapsed": false,
    "ExecuteTime": {
     "end_time": "2024-03-15T14:20:35.399445500Z",
     "start_time": "2024-03-15T14:20:35.395439100Z"
    }
   },
   "id": "2400ab07efa5d0cc",
   "execution_count": 4
  },
  {
   "cell_type": "code",
   "outputs": [
    {
     "name": "stdout",
     "output_type": "stream",
     "text": [
      "[0 1 0 1 0 0 0 1 0 1]\n"
     ]
    }
   ],
   "source": [
    "import numpy as np\n",
    "\n",
    "arr = np.array([-0.6690, -0.6706, -0.6602, -0.6862, -0.6564, -0.6509, -0.6546, -0.6772,\n",
    "        -0.6583, -0.6767])\n",
    "print((arr < -0.67).astype(int))"
   ],
   "metadata": {
    "collapsed": false,
    "ExecuteTime": {
     "end_time": "2024-03-13T23:03:55.972307Z",
     "start_time": "2024-03-13T23:03:55.968717Z"
    }
   },
   "id": "da4d6741d60e398d",
   "execution_count": 42
  },
  {
   "cell_type": "code",
   "outputs": [],
   "source": [],
   "metadata": {
    "collapsed": false
   },
   "id": "ba0bdf56e5efa338"
  },
  {
   "cell_type": "code",
   "outputs": [
    {
     "name": "stdout",
     "output_type": "stream",
     "text": [
      "[0 0 0 0 0 0 0 0 1 0]\n"
     ]
    }
   ],
   "source": [
    "from imbalanced_data.code.util import utils\n",
    "import numpy as np\n",
    "\n",
    "sampled_labels = utils.unpickle(\"D:\\\\Programming\\\\PycharmProjects\\\\ba\\\\imbalanced_data\\\\data\\\\air_pressure\\\\02_sampled\\\\2024_03_10_17_33_25\\\\None_fold-0_train_labels.npy\", is_numpy=True)\n",
    "labels = sampled_labels[:10]\n",
    "print(labels)\n"
   ],
   "metadata": {
    "collapsed": false,
    "ExecuteTime": {
     "end_time": "2024-03-15T19:51:56.303614400Z",
     "start_time": "2024-03-15T19:51:56.300010800Z"
    }
   },
   "id": "53c4e795bccf7cde",
   "execution_count": 9
  },
  {
   "cell_type": "code",
   "outputs": [
    {
     "name": "stdout",
     "output_type": "stream",
     "text": [
      "[[0 1]\n",
      " [0 1]\n",
      " [0 1]\n",
      " [0 1]\n",
      " [0 1]\n",
      " [0 1]\n",
      " [0 1]\n",
      " [0 1]\n",
      " [1 0]\n",
      " [0 1]]\n"
     ]
    }
   ],
   "source": [
    "\n",
    "print(np.column_stack((labels, 1-labels)))"
   ],
   "metadata": {
    "collapsed": false,
    "ExecuteTime": {
     "end_time": "2024-03-15T20:03:26.088741900Z",
     "start_time": "2024-03-15T20:03:26.084228200Z"
    }
   },
   "id": "924654537a26ae23",
   "execution_count": 22
  },
  {
   "cell_type": "code",
   "outputs": [
    {
     "name": "stdout",
     "output_type": "stream",
     "text": [
      "tensor([[1., 3., 5., 7.],\n",
      "        [2., 4., 6., 8.]])\n",
      "tensor([[0.],\n",
      "        [1.],\n",
      "        [1.],\n",
      "        [1.],\n",
      "        [0.],\n",
      "        [0.],\n",
      "        [1.],\n",
      "        [1.],\n",
      "        [0.],\n",
      "        [1.]])\n"
     ]
    }
   ],
   "source": [
    "import torch\n",
    "x = torch.Tensor([[0.5270, 0.5147],\n",
    "[0.5262, 0.5194],\n",
    "[0.5252, 0.5216],\n",
    "[0.5221, 0.5240],\n",
    "[0.5227, 0.5258],\n",
    "[0.5350, 0.5207],\n",
    "[0.5253, 0.5254],\n",
    "[0.5152, 0.5201],\n",
    "[0.5230, 0.5224],\n",
    "[0.5283, 0.5178]])\n",
    "\n",
    "print(torch.Tensor([[1, 2],[3, 4],[5, 6],[7, 8]]).transpose(0,1))\n",
    "# torch.Tensor([[1, 3, 5 ,7],[2, 4, 6, 8]])\n",
    "\n",
    "print(torch.Tensor([0, 1, 1,1,0,0,1,1,0,1]).reshape(-1, 1))"
   ],
   "metadata": {
    "collapsed": false,
    "ExecuteTime": {
     "end_time": "2024-03-16T16:54:34.781558400Z",
     "start_time": "2024-03-16T16:54:34.775488400Z"
    }
   },
   "id": "e1eff0677520bf7",
   "execution_count": 3
  },
  {
   "cell_type": "code",
   "outputs": [],
   "source": [],
   "metadata": {
    "collapsed": false
   },
   "id": "577a5bb0ec1e27cc"
  }
 ],
 "metadata": {
  "kernelspec": {
   "display_name": "Python 3",
   "language": "python",
   "name": "python3"
  },
  "language_info": {
   "codemirror_mode": {
    "name": "ipython",
    "version": 2
   },
   "file_extension": ".py",
   "mimetype": "text/x-python",
   "name": "python",
   "nbconvert_exporter": "python",
   "pygments_lexer": "ipython2",
   "version": "2.7.6"
  }
 },
 "nbformat": 4,
 "nbformat_minor": 5
}
